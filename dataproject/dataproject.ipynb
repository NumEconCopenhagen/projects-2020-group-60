{
 "cells": [
  {
   "cell_type": "markdown",
   "metadata": {},
   "source": [
    "# YOUR PROJECT TITLE"
   ]
  },
  {
   "cell_type": "markdown",
   "metadata": {},
   "source": [
    "> **Note the following:** \n",
    "> 1. This is *not* meant to be an example of an actual **data analysis project**, just an example of how to structure such a project.\n",
    "> 1. Remember the general advice on structuring and commenting your code from [lecture 5](https://numeconcopenhagen.netlify.com/lectures/Workflow_and_debugging).\n",
    "> 1. Remember this [guide](https://www.markdownguide.org/basic-syntax/) on markdown and (a bit of) latex.\n",
    "> 1. Turn on automatic numbering by clicking on the small icon on top of the table of contents in the left sidebar.\n",
    "> 1. The `dataproject.py` file includes a function which will be used multiple times in this notebook."
   ]
  },
  {
   "cell_type": "markdown",
   "metadata": {},
   "source": [
    "Imports and set magics:"
   ]
  },
  {
   "cell_type": "code",
   "execution_count": 79,
   "metadata": {},
   "outputs": [
    {
     "output_type": "execute_result",
     "data": {
      "text/plain": "     Pension for currently working                     Type Amount  \\\nYear                                                                 \n2000     Number of working members  Corporate pension funds  11898   \n2001     Number of working members  Corporate pension funds  11404   \n2002     Number of working members  Corporate pension funds   9830   \n2003     Number of working members  Corporate pension funds   9912   \n2004     Number of working members  Corporate pension funds   8624   \n2005     Number of working members  Corporate pension funds   8172   \n2006     Number of working members  Corporate pension funds   7760   \n2007     Number of working members  Corporate pension funds   7356   \n2008     Number of working members  Corporate pension funds   6794   \n2009     Number of working members  Corporate pension funds   6441   \n2010     Number of working members  Corporate pension funds   6409   \n2011     Number of working members  Corporate pension funds   5824   \n2012     Number of working members  Corporate pension funds   4312   \n2013     Number of working members  Corporate pension funds   3626   \n2014     Number of working members  Corporate pension funds   3293   \n2015     Number of working members  Corporate pension funds   2988   \n2016     Number of working members  Corporate pension funds   2748   \n2017     Number of working members  Corporate pension funds   2469   \n2018     Number of working members  Corporate pension funds   2219   \n\n     Pension for currently retired                     Type Amount  \nYear                                                                \n2000     Number of retired members  Corporate pension funds   7749  \n2001     Number of retired members  Corporate pension funds   7292  \n2002     Number of retired members  Corporate pension funds   6950  \n2003     Number of retired members  Corporate pension funds   6965  \n2004     Number of retired members  Corporate pension funds   7543  \n2005     Number of retired members  Corporate pension funds   7785  \n2006     Number of retired members  Corporate pension funds   7979  \n2007     Number of retired members  Corporate pension funds   7976  \n2008     Number of retired members  Corporate pension funds   7905  \n2009     Number of retired members  Corporate pension funds   8177  \n2010     Number of retired members  Corporate pension funds   8510  \n2011     Number of retired members  Corporate pension funds   8162  \n2012     Number of retired members  Corporate pension funds   8114  \n2013     Number of retired members  Corporate pension funds   7128  \n2014     Number of retired members  Corporate pension funds   7832  \n2015     Number of retired members  Corporate pension funds   7807  \n2016     Number of retired members  Corporate pension funds   7770  \n2017     Number of retired members  Corporate pension funds   7803  \n2018     Number of retired members  Corporate pension funds   7793  ",
      "text/html": "<div>\n<style scoped>\n    .dataframe tbody tr th:only-of-type {\n        vertical-align: middle;\n    }\n\n    .dataframe tbody tr th {\n        vertical-align: top;\n    }\n\n    .dataframe thead th {\n        text-align: right;\n    }\n</style>\n<table border=\"1\" class=\"dataframe\">\n  <thead>\n    <tr style=\"text-align: right;\">\n      <th></th>\n      <th>Pension for currently working</th>\n      <th>Type</th>\n      <th>Amount</th>\n      <th>Pension for currently retired</th>\n      <th>Type</th>\n      <th>Amount</th>\n    </tr>\n    <tr>\n      <th>Year</th>\n      <th></th>\n      <th></th>\n      <th></th>\n      <th></th>\n      <th></th>\n      <th></th>\n    </tr>\n  </thead>\n  <tbody>\n    <tr>\n      <td>2000</td>\n      <td>Number of working members</td>\n      <td>Corporate pension funds</td>\n      <td>11898</td>\n      <td>Number of retired members</td>\n      <td>Corporate pension funds</td>\n      <td>7749</td>\n    </tr>\n    <tr>\n      <td>2001</td>\n      <td>Number of working members</td>\n      <td>Corporate pension funds</td>\n      <td>11404</td>\n      <td>Number of retired members</td>\n      <td>Corporate pension funds</td>\n      <td>7292</td>\n    </tr>\n    <tr>\n      <td>2002</td>\n      <td>Number of working members</td>\n      <td>Corporate pension funds</td>\n      <td>9830</td>\n      <td>Number of retired members</td>\n      <td>Corporate pension funds</td>\n      <td>6950</td>\n    </tr>\n    <tr>\n      <td>2003</td>\n      <td>Number of working members</td>\n      <td>Corporate pension funds</td>\n      <td>9912</td>\n      <td>Number of retired members</td>\n      <td>Corporate pension funds</td>\n      <td>6965</td>\n    </tr>\n    <tr>\n      <td>2004</td>\n      <td>Number of working members</td>\n      <td>Corporate pension funds</td>\n      <td>8624</td>\n      <td>Number of retired members</td>\n      <td>Corporate pension funds</td>\n      <td>7543</td>\n    </tr>\n    <tr>\n      <td>2005</td>\n      <td>Number of working members</td>\n      <td>Corporate pension funds</td>\n      <td>8172</td>\n      <td>Number of retired members</td>\n      <td>Corporate pension funds</td>\n      <td>7785</td>\n    </tr>\n    <tr>\n      <td>2006</td>\n      <td>Number of working members</td>\n      <td>Corporate pension funds</td>\n      <td>7760</td>\n      <td>Number of retired members</td>\n      <td>Corporate pension funds</td>\n      <td>7979</td>\n    </tr>\n    <tr>\n      <td>2007</td>\n      <td>Number of working members</td>\n      <td>Corporate pension funds</td>\n      <td>7356</td>\n      <td>Number of retired members</td>\n      <td>Corporate pension funds</td>\n      <td>7976</td>\n    </tr>\n    <tr>\n      <td>2008</td>\n      <td>Number of working members</td>\n      <td>Corporate pension funds</td>\n      <td>6794</td>\n      <td>Number of retired members</td>\n      <td>Corporate pension funds</td>\n      <td>7905</td>\n    </tr>\n    <tr>\n      <td>2009</td>\n      <td>Number of working members</td>\n      <td>Corporate pension funds</td>\n      <td>6441</td>\n      <td>Number of retired members</td>\n      <td>Corporate pension funds</td>\n      <td>8177</td>\n    </tr>\n    <tr>\n      <td>2010</td>\n      <td>Number of working members</td>\n      <td>Corporate pension funds</td>\n      <td>6409</td>\n      <td>Number of retired members</td>\n      <td>Corporate pension funds</td>\n      <td>8510</td>\n    </tr>\n    <tr>\n      <td>2011</td>\n      <td>Number of working members</td>\n      <td>Corporate pension funds</td>\n      <td>5824</td>\n      <td>Number of retired members</td>\n      <td>Corporate pension funds</td>\n      <td>8162</td>\n    </tr>\n    <tr>\n      <td>2012</td>\n      <td>Number of working members</td>\n      <td>Corporate pension funds</td>\n      <td>4312</td>\n      <td>Number of retired members</td>\n      <td>Corporate pension funds</td>\n      <td>8114</td>\n    </tr>\n    <tr>\n      <td>2013</td>\n      <td>Number of working members</td>\n      <td>Corporate pension funds</td>\n      <td>3626</td>\n      <td>Number of retired members</td>\n      <td>Corporate pension funds</td>\n      <td>7128</td>\n    </tr>\n    <tr>\n      <td>2014</td>\n      <td>Number of working members</td>\n      <td>Corporate pension funds</td>\n      <td>3293</td>\n      <td>Number of retired members</td>\n      <td>Corporate pension funds</td>\n      <td>7832</td>\n    </tr>\n    <tr>\n      <td>2015</td>\n      <td>Number of working members</td>\n      <td>Corporate pension funds</td>\n      <td>2988</td>\n      <td>Number of retired members</td>\n      <td>Corporate pension funds</td>\n      <td>7807</td>\n    </tr>\n    <tr>\n      <td>2016</td>\n      <td>Number of working members</td>\n      <td>Corporate pension funds</td>\n      <td>2748</td>\n      <td>Number of retired members</td>\n      <td>Corporate pension funds</td>\n      <td>7770</td>\n    </tr>\n    <tr>\n      <td>2017</td>\n      <td>Number of working members</td>\n      <td>Corporate pension funds</td>\n      <td>2469</td>\n      <td>Number of retired members</td>\n      <td>Corporate pension funds</td>\n      <td>7803</td>\n    </tr>\n    <tr>\n      <td>2018</td>\n      <td>Number of working members</td>\n      <td>Corporate pension funds</td>\n      <td>2219</td>\n      <td>Number of retired members</td>\n      <td>Corporate pension funds</td>\n      <td>7793</td>\n    </tr>\n  </tbody>\n</table>\n</div>"
     },
     "metadata": {},
     "execution_count": 79
    }
   ],
   "source": [
    "#Installing programs in Anaconda Promt. \n",
    "#(1): pip install pandas-datareader\n",
    "#(2): pip install git+https://github.com/elben10/pydst\n",
    "\n",
    "#Importing used packages.\n",
    "import numpy as np\n",
    "import pandas as pd\n",
    "import pandas_datareader # install in (1).\n",
    "import pydst # install in (2).\n",
    "import matplotlib.pyplot as plt\n",
    "\n",
    "#DATACLEANING#\n",
    "\n",
    "#We use pydst to use an API to Denmark's statistics\n",
    "Dst = pydst.Dst(lang='en')\n",
    "Dst.get_subjects() #Used to see list of different datasets. \n",
    "tables = Dst.get_tables(subjects=['16']) #We choose the main dataset for \"Money and credit markets\".\n",
    "tables[tables.id == 'MPK49'] #We choose the subdataset for \"Pension funds\".\n",
    "Vars = Dst.get_variables(table_id='MPK49')\n",
    "\n",
    "#To find the variables we need, we inspect the table that we have imported:\n",
    "Vars.values\n",
    "\n",
    "\n",
    "#After picking out values, we can get our data:\n",
    "Data = Dst.get_data(table_id = 'MPK49', variables={'AKTPAS':['5180','5190','5200'], 'TID':['*'], 'TYPE':['*']})\n",
    "Data.rename(columns={'AKTPAS':'Assets & Liabilities','TID':'Year','TYPE':'Type','INDHOLD':'Amount'},inplace=True)\n",
    "\n",
    "Index = Data.set_index('Year')\n",
    "Sort = Index[['Assets & Liabilities','Type','Amount']]\n",
    "\n",
    "Corporate=Sort[Sort['Type']=='Corporate pension funds'].sort_values(['Year','Type'])\n",
    "Working = Corporate[Corporate['Assets & Liabilities']=='Number of working members'].sort_values(['Year','Type']).rename(columns={'Assets & Liabilities':'Currently working', 'Amount':'Average pension for currently working in DKK'})\n",
    "Retired = Corporate[Corporate['Assets & Liabilities']=='Number of retired members'].sort_values(['Year','Type']).rename(columns={'Assets & Liabilities':'Currently retired', 'Amount':'Average pension for currently retired in DKK'})\n",
    "\n",
    "#Retired_noyear = Retired[['Assets & Liabilities', 'Number of retired members']]\n",
    "\n",
    "#Concatenate the two tables:\n",
    "Concatenated_table = pd.concat([Working, Retired], axis=1)\n",
    "Concatenated_table\n",
    "\n",
    "\n",
    "\n",
    "\n",
    "\n",
    "\n",
    "#Removing the gender nicer look:\n",
    "Final_table = Concatenated_table[['Year','disposable_income_men','disposable_income_women']]\n",
    "\n",
    "#DATACLEANING COMPLETE#\n",
    "\n",
    "#APPLYING METHODS#\n",
    "\n",
    "#Creates a function with provides the difference between the genders in %:\n",
    "def f(x):\n",
    "    \"\"\"Gives the procentual difference between the genders\"\"\"\n",
    "    return round((x['disposable_income_men']/x['disposable_income_women']-1)*100, 2)\n",
    "\n",
    "#Applying the function to the end of the table:\n",
    "Final_table['Difference in %']=Final_table.apply(f, axis=1)\n",
    "\n",
    "\n"
   ]
  },
  {
   "cell_type": "code",
   "execution_count": 81,
   "metadata": {},
   "outputs": [
    {
     "output_type": "execute_result",
     "data": {
      "text/plain": "                      Year  disposable_income_men  disposable_income_women  \\\nMunicipality                                                                 \nAll Denmark           1987                  89143                    67614   \nAll Denmark           1988                  92738                    72330   \nAll Denmark           1989                  97448                    77035   \nAll Denmark           1990                 100886                    80440   \nAll Denmark           1991                 105575                    84162   \n...                    ...                    ...                      ...   \nProvince Østsjælland  2014                 257221                   211311   \nProvince Østsjælland  2015                 262510                   215751   \nProvince Østsjælland  2016                 268279                   219023   \nProvince Østsjælland  2017                 276483                   224348   \nProvince Østsjælland  2018                 283326                   230406   \n\n                      Difference in %  \nMunicipality                           \nAll Denmark                     31.84  \nAll Denmark                     28.22  \nAll Denmark                     26.50  \nAll Denmark                     25.42  \nAll Denmark                     25.44  \n...                               ...  \nProvince Østsjælland            21.73  \nProvince Østsjælland            21.67  \nProvince Østsjælland            22.49  \nProvince Østsjælland            23.24  \nProvince Østsjælland            22.97  \n\n[384 rows x 4 columns]",
      "text/html": "<div>\n<style scoped>\n    .dataframe tbody tr th:only-of-type {\n        vertical-align: middle;\n    }\n\n    .dataframe tbody tr th {\n        vertical-align: top;\n    }\n\n    .dataframe thead th {\n        text-align: right;\n    }\n</style>\n<table border=\"1\" class=\"dataframe\">\n  <thead>\n    <tr style=\"text-align: right;\">\n      <th></th>\n      <th>Year</th>\n      <th>disposable_income_men</th>\n      <th>disposable_income_women</th>\n      <th>Difference in %</th>\n    </tr>\n    <tr>\n      <th>Municipality</th>\n      <th></th>\n      <th></th>\n      <th></th>\n      <th></th>\n    </tr>\n  </thead>\n  <tbody>\n    <tr>\n      <td>All Denmark</td>\n      <td>1987</td>\n      <td>89143</td>\n      <td>67614</td>\n      <td>31.84</td>\n    </tr>\n    <tr>\n      <td>All Denmark</td>\n      <td>1988</td>\n      <td>92738</td>\n      <td>72330</td>\n      <td>28.22</td>\n    </tr>\n    <tr>\n      <td>All Denmark</td>\n      <td>1989</td>\n      <td>97448</td>\n      <td>77035</td>\n      <td>26.50</td>\n    </tr>\n    <tr>\n      <td>All Denmark</td>\n      <td>1990</td>\n      <td>100886</td>\n      <td>80440</td>\n      <td>25.42</td>\n    </tr>\n    <tr>\n      <td>All Denmark</td>\n      <td>1991</td>\n      <td>105575</td>\n      <td>84162</td>\n      <td>25.44</td>\n    </tr>\n    <tr>\n      <td>...</td>\n      <td>...</td>\n      <td>...</td>\n      <td>...</td>\n      <td>...</td>\n    </tr>\n    <tr>\n      <td>Province Østsjælland</td>\n      <td>2014</td>\n      <td>257221</td>\n      <td>211311</td>\n      <td>21.73</td>\n    </tr>\n    <tr>\n      <td>Province Østsjælland</td>\n      <td>2015</td>\n      <td>262510</td>\n      <td>215751</td>\n      <td>21.67</td>\n    </tr>\n    <tr>\n      <td>Province Østsjælland</td>\n      <td>2016</td>\n      <td>268279</td>\n      <td>219023</td>\n      <td>22.49</td>\n    </tr>\n    <tr>\n      <td>Province Østsjælland</td>\n      <td>2017</td>\n      <td>276483</td>\n      <td>224348</td>\n      <td>23.24</td>\n    </tr>\n    <tr>\n      <td>Province Østsjælland</td>\n      <td>2018</td>\n      <td>283326</td>\n      <td>230406</td>\n      <td>22.97</td>\n    </tr>\n  </tbody>\n</table>\n<p>384 rows × 4 columns</p>\n</div>"
     },
     "metadata": {},
     "execution_count": 81
    }
   ],
   "source": [
    "#Import the neccesary packages\n",
    "import numpy as np\n",
    "import pandas as pd\n",
    "import pydst\n",
    "import matplotlib.pyplot as plt\n",
    "\n",
    "#DATACLEANING#\n",
    "\n",
    "#We use pydst to use an API to Denmark's statistics\n",
    "Dst = pydst.Dst(lang='en')\n",
    "Dst.get_data(table_id='INDKP101')\n",
    "Vars = Dst.get_variables(table_id='INDKP101')\n",
    "\n",
    "#To find the variables we need, we inspect the table that we have imported:\n",
    "Vars.values\n",
    "\n",
    "#After picking out values, we can get our data:\n",
    "Everything = Dst.get_data(table_id = 'INDKP101', variables={'OMRÅDE':['000','01','02','03','04','05','06','07','08','09','10','11'], 'KOEN':['M','K'], 'TID':['*'], 'ENHED':['116'], 'INDKOMSTTYPE':['100']}).rename(columns={'OMRÅDE':'Municipality'})\n",
    "\n",
    "#Changing the index to Municipality:\n",
    "New_index = Everything.set_index('Municipality')\n",
    "\n",
    "#Picking out the neccesary variables:\n",
    "Sortet = New_index[['TID','KOEN','INDHOLD']].rename(columns={'KOEN':'Gender', 'TID':'Year', 'INDHOLD':'disposable income'})\n",
    "\n",
    "#Making a table for each gender:\n",
    "Men = Sortet[Sortet['Gender']=='Men'].sort_values(['Municipality','Year']).rename(columns={'disposable income':'disposable_income_men'})\n",
    "\n",
    "Women = Sortet[Sortet['Gender']=='Women'].sort_values(['Municipality', 'Year']).rename(columns={'disposable income':'disposable_income_women'})\n",
    "\n",
    "Women_without_year = Women[['Gender', 'disposable_income_women']]\n",
    "\n",
    "#Concatenate the two tables:\n",
    "Concatenated_table = pd.concat([Men, Women_without_year], axis=1)\n",
    "\n",
    "Concatenated_table\n",
    "\n",
    "\n",
    "\n",
    "\n",
    "\n",
    "\n",
    "#Removing the gender nicer look:\n",
    "Final_table = Concatenated_table[['Year','disposable_income_men','disposable_income_women']]\n",
    "\n",
    "#DATACLEANING COMPLETE#\n",
    "\n",
    "#APPLYING METHODS#\n",
    "\n",
    "#Creates a function with provides the difference between the genders in %:\n",
    "def f(x):\n",
    "    \"\"\"Gives the procentual difference between the genders\"\"\"\n",
    "    return round((x['disposable_income_men']/x['disposable_income_women']-1)*100, 2)\n",
    "\n",
    "#Applying the function to the end of the table:\n",
    "Final_table['Difference in %']=Final_table.apply(f, axis=1)\n",
    "Final_table\n",
    "\n",
    ""
   ]
  },
  {
   "cell_type": "code",
   "execution_count": 8,
   "metadata": {},
   "outputs": [
    {
     "output_type": "stream",
     "name": "stdout",
     "text": "The autoreload extension is already loaded. To reload it, use:\n  %reload_ext autoreload\n"
    },
    {
     "output_type": "error",
     "ename": "HTTPError",
     "evalue": "400 Client Error: Can't find variable: al for url: https://api.statbank.dk/v1/data/MPK49/BULK?lang=en&delimiter=Semicolon&al=5180,5190,5200&TID=*&AKTPAS=5180&TYPE=5410&Tid=2000",
     "traceback": [
      "\u001b[1;31m---------------------------------------------------------------------------\u001b[0m",
      "\u001b[1;31mHTTPError\u001b[0m                                 Traceback (most recent call last)",
      "\u001b[1;32m<ipython-input-8-fb822a484fc7>\u001b[0m in \u001b[0;36m<module>\u001b[1;34m\u001b[0m\n\u001b[0;32m      2\u001b[0m \u001b[0mget_ipython\u001b[0m\u001b[1;33m(\u001b[0m\u001b[1;33m)\u001b[0m\u001b[1;33m.\u001b[0m\u001b[0mrun_line_magic\u001b[0m\u001b[1;33m(\u001b[0m\u001b[1;34m'autoreload'\u001b[0m\u001b[1;33m,\u001b[0m \u001b[1;34m'2'\u001b[0m\u001b[1;33m)\u001b[0m\u001b[1;33m\u001b[0m\u001b[1;33m\u001b[0m\u001b[0m\n\u001b[0;32m      3\u001b[0m \u001b[1;31m# You can load your python module as this:\u001b[0m\u001b[1;33m\u001b[0m\u001b[1;33m\u001b[0m\u001b[1;33m\u001b[0m\u001b[0m\n\u001b[1;32m----> 4\u001b[1;33m \u001b[1;32mimport\u001b[0m \u001b[0mdataproject\u001b[0m \u001b[1;32mas\u001b[0m \u001b[0mdp\u001b[0m\u001b[1;33m\u001b[0m\u001b[1;33m\u001b[0m\u001b[0m\n\u001b[0m\u001b[0;32m      5\u001b[0m \u001b[1;32mfrom\u001b[0m \u001b[0mipywidgets\u001b[0m \u001b[1;32mimport\u001b[0m \u001b[0minteract\u001b[0m\u001b[1;33m,\u001b[0m \u001b[0minteractive\u001b[0m\u001b[1;33m,\u001b[0m \u001b[0mfixed\u001b[0m\u001b[1;33m,\u001b[0m \u001b[0minteract_manual\u001b[0m\u001b[1;33m\u001b[0m\u001b[1;33m\u001b[0m\u001b[0m\n\u001b[0;32m      6\u001b[0m \u001b[1;32mimport\u001b[0m \u001b[0mipywidgets\u001b[0m \u001b[1;32mas\u001b[0m \u001b[0mwidgets\u001b[0m\u001b[1;33m\u001b[0m\u001b[1;33m\u001b[0m\u001b[0m\n",
      "\u001b[1;32mc:\\Users\\mads\\OneDrive\\Dokumenter\\GitHub\\projects-2020-group-60\\dataproject\\dataproject.py\u001b[0m in \u001b[0;36m<module>\u001b[1;34m\u001b[0m\n\u001b[0;32m     25\u001b[0m \u001b[1;33m\u001b[0m\u001b[0m\n\u001b[0;32m     26\u001b[0m \u001b[1;31m#After picking out values, we can get our data:\u001b[0m\u001b[1;33m\u001b[0m\u001b[1;33m\u001b[0m\u001b[1;33m\u001b[0m\u001b[0m\n\u001b[1;32m---> 27\u001b[1;33m \u001b[0mData\u001b[0m \u001b[1;33m=\u001b[0m \u001b[0mDst\u001b[0m\u001b[1;33m.\u001b[0m\u001b[0mget_data\u001b[0m\u001b[1;33m(\u001b[0m\u001b[0mtable_id\u001b[0m \u001b[1;33m=\u001b[0m \u001b[1;34m'MPK49'\u001b[0m\u001b[1;33m,\u001b[0m \u001b[0mvariables\u001b[0m\u001b[1;33m=\u001b[0m\u001b[1;33m{\u001b[0m\u001b[1;34m'al'\u001b[0m\u001b[1;33m:\u001b[0m\u001b[1;33m[\u001b[0m\u001b[1;34m'5180'\u001b[0m\u001b[1;33m,\u001b[0m\u001b[1;34m'5190'\u001b[0m\u001b[1;33m,\u001b[0m\u001b[1;34m'5200'\u001b[0m\u001b[1;33m]\u001b[0m\u001b[1;33m,\u001b[0m \u001b[1;34m'TID'\u001b[0m\u001b[1;33m:\u001b[0m\u001b[1;33m[\u001b[0m\u001b[1;34m'*'\u001b[0m\u001b[1;33m]\u001b[0m\u001b[1;33m}\u001b[0m\u001b[1;33m)\u001b[0m\u001b[1;33m\u001b[0m\u001b[1;33m\u001b[0m\u001b[0m\n\u001b[0m\u001b[0;32m     28\u001b[0m \u001b[1;33m\u001b[0m\u001b[0m\n\u001b[0;32m     29\u001b[0m \u001b[1;31m#Renaming our variabel.\u001b[0m\u001b[1;33m\u001b[0m\u001b[1;33m\u001b[0m\u001b[1;33m\u001b[0m\u001b[0m\n",
      "\u001b[1;32m~\\Anaconda\\lib\\site-packages\\pydst\\pydst.py\u001b[0m in \u001b[0;36mget_data\u001b[1;34m(self, table_id, variables, lang)\u001b[0m\n\u001b[0;32m    298\u001b[0m         \u001b[0murl\u001b[0m \u001b[1;33m=\u001b[0m \u001b[0mbase_url\u001b[0m\u001b[1;33m.\u001b[0m\u001b[0mformat\u001b[0m\u001b[1;33m(\u001b[0m\u001b[0mtable_id\u001b[0m\u001b[1;33m,\u001b[0m \u001b[0mlang\u001b[0m\u001b[1;33m,\u001b[0m \u001b[0marg_str\u001b[0m\u001b[1;33m)\u001b[0m\u001b[1;33m\u001b[0m\u001b[1;33m\u001b[0m\u001b[0m\n\u001b[0;32m    299\u001b[0m         \u001b[0mr\u001b[0m \u001b[1;33m=\u001b[0m \u001b[0mrequests\u001b[0m\u001b[1;33m.\u001b[0m\u001b[0mget\u001b[0m\u001b[1;33m(\u001b[0m\u001b[0murl\u001b[0m\u001b[1;33m)\u001b[0m\u001b[1;33m\u001b[0m\u001b[1;33m\u001b[0m\u001b[0m\n\u001b[1;32m--> 300\u001b[1;33m         \u001b[0mutils\u001b[0m\u001b[1;33m.\u001b[0m\u001b[0mbad_request_wrapper\u001b[0m\u001b[1;33m(\u001b[0m\u001b[0mr\u001b[0m\u001b[1;33m)\u001b[0m\u001b[1;33m\u001b[0m\u001b[1;33m\u001b[0m\u001b[0m\n\u001b[0m\u001b[0;32m    301\u001b[0m         \u001b[1;32mreturn\u001b[0m \u001b[0mread_csv\u001b[0m\u001b[1;33m(\u001b[0m\u001b[0mStringIO\u001b[0m\u001b[1;33m(\u001b[0m\u001b[0mr\u001b[0m\u001b[1;33m.\u001b[0m\u001b[0mcontent\u001b[0m\u001b[1;33m.\u001b[0m\u001b[0mdecode\u001b[0m\u001b[1;33m(\u001b[0m\u001b[1;34m'utf-8'\u001b[0m\u001b[1;33m)\u001b[0m\u001b[1;33m)\u001b[0m\u001b[1;33m,\u001b[0m \u001b[0msep\u001b[0m\u001b[1;33m=\u001b[0m\u001b[1;34m';'\u001b[0m\u001b[1;33m)\u001b[0m\u001b[1;33m\u001b[0m\u001b[1;33m\u001b[0m\u001b[0m\n\u001b[0;32m    302\u001b[0m \u001b[1;33m\u001b[0m\u001b[0m\n",
      "\u001b[1;32m~\\Anaconda\\lib\\site-packages\\pydst\\utils.py\u001b[0m in \u001b[0;36mbad_request_wrapper\u001b[1;34m(r)\u001b[0m\n\u001b[0;32m     17\u001b[0m            \u001b[0mr\u001b[0m\u001b[1;33m.\u001b[0m\u001b[0mjson\u001b[0m\u001b[1;33m(\u001b[0m\u001b[1;33m)\u001b[0m\u001b[1;33m.\u001b[0m\u001b[0mget\u001b[0m\u001b[1;33m(\u001b[0m\u001b[1;34m'message'\u001b[0m\u001b[1;33m,\u001b[0m \u001b[1;32mNone\u001b[0m\u001b[1;33m)\u001b[0m\u001b[1;33m:\u001b[0m\u001b[1;33m\u001b[0m\u001b[1;33m\u001b[0m\u001b[0m\n\u001b[0;32m     18\u001b[0m            \u001b[0mr\u001b[0m\u001b[1;33m.\u001b[0m\u001b[0mreason\u001b[0m \u001b[1;33m=\u001b[0m \u001b[0mr\u001b[0m\u001b[1;33m.\u001b[0m\u001b[0mjson\u001b[0m\u001b[1;33m(\u001b[0m\u001b[1;33m)\u001b[0m\u001b[1;33m[\u001b[0m\u001b[1;34m'message'\u001b[0m\u001b[1;33m]\u001b[0m\u001b[1;33m\u001b[0m\u001b[1;33m\u001b[0m\u001b[0m\n\u001b[1;32m---> 19\u001b[1;33m            \u001b[0mr\u001b[0m\u001b[1;33m.\u001b[0m\u001b[0mraise_for_status\u001b[0m\u001b[1;33m(\u001b[0m\u001b[1;33m)\u001b[0m\u001b[1;33m\u001b[0m\u001b[1;33m\u001b[0m\u001b[0m\n\u001b[0m\u001b[0;32m     20\u001b[0m         \u001b[1;32melse\u001b[0m\u001b[1;33m:\u001b[0m\u001b[1;33m\u001b[0m\u001b[1;33m\u001b[0m\u001b[0m\n\u001b[0;32m     21\u001b[0m            \u001b[0mr\u001b[0m\u001b[1;33m.\u001b[0m\u001b[0mraise_for_status\u001b[0m\u001b[1;33m(\u001b[0m\u001b[1;33m)\u001b[0m\u001b[1;33m\u001b[0m\u001b[1;33m\u001b[0m\u001b[0m\n",
      "\u001b[1;32m~\\Anaconda\\lib\\site-packages\\requests\\models.py\u001b[0m in \u001b[0;36mraise_for_status\u001b[1;34m(self)\u001b[0m\n\u001b[0;32m    938\u001b[0m \u001b[1;33m\u001b[0m\u001b[0m\n\u001b[0;32m    939\u001b[0m         \u001b[1;32mif\u001b[0m \u001b[0mhttp_error_msg\u001b[0m\u001b[1;33m:\u001b[0m\u001b[1;33m\u001b[0m\u001b[1;33m\u001b[0m\u001b[0m\n\u001b[1;32m--> 940\u001b[1;33m             \u001b[1;32mraise\u001b[0m \u001b[0mHTTPError\u001b[0m\u001b[1;33m(\u001b[0m\u001b[0mhttp_error_msg\u001b[0m\u001b[1;33m,\u001b[0m \u001b[0mresponse\u001b[0m\u001b[1;33m=\u001b[0m\u001b[0mself\u001b[0m\u001b[1;33m)\u001b[0m\u001b[1;33m\u001b[0m\u001b[1;33m\u001b[0m\u001b[0m\n\u001b[0m\u001b[0;32m    941\u001b[0m \u001b[1;33m\u001b[0m\u001b[0m\n\u001b[0;32m    942\u001b[0m     \u001b[1;32mdef\u001b[0m \u001b[0mclose\u001b[0m\u001b[1;33m(\u001b[0m\u001b[0mself\u001b[0m\u001b[1;33m)\u001b[0m\u001b[1;33m:\u001b[0m\u001b[1;33m\u001b[0m\u001b[1;33m\u001b[0m\u001b[0m\n",
      "\u001b[1;31mHTTPError\u001b[0m: 400 Client Error: Can't find variable: al for url: https://api.statbank.dk/v1/data/MPK49/BULK?lang=en&delimiter=Semicolon&al=5180,5190,5200&TID=*&AKTPAS=5180&TYPE=5410&Tid=2000"
     ]
    }
   ],
   "source": [
    "%load_ext autoreload\n",
    "%autoreload 2\n",
    "# You can load your python module as this:\n",
    "import dataproject as dp\n",
    "from ipywidgets import interact, interactive, fixed, interact_manual\n",
    "import ipywidgets as widgets\n",
    "\n",
    ""
   ]
  },
  {
   "cell_type": "markdown",
   "metadata": {
    "toc-hr-collapsed": true
   },
   "source": [
    "# Read and clean data"
   ]
  },
  {
   "cell_type": "markdown",
   "metadata": {},
   "source": [
    "## Employment data"
   ]
  },
  {
   "cell_type": "markdown",
   "metadata": {},
   "source": [
    "**Read the employment data** in ``RAS200.xlsx`` and **clean it** removing and renaming columns:"
   ]
  },
  {
   "cell_type": "code",
   "execution_count": 6,
   "metadata": {},
   "outputs": [],
   "source": [
    "# a. load\n",
    "empl = pd.read_excel('RAS200.xlsx', skiprows=2)\n",
    "\n",
    "# b. drop columns\n",
    "drop_these = ['Unnamed: 0', 'Unnamed: 1', 'Unnamed: 2', 'Unnamed: 3']\n",
    "empl.drop(drop_these, axis=1, inplace=True)\n",
    "\n",
    "# c. rename columns\n",
    "empl.rename(columns = {'Unnamed: 4':'municipality'}, inplace=True)"
   ]
  },
  {
   "cell_type": "markdown",
   "metadata": {},
   "source": [
    "The dataset now looks like this:"
   ]
  },
  {
   "cell_type": "code",
   "execution_count": 8,
   "metadata": {},
   "outputs": [
    {
     "output_type": "execute_result",
     "data": {
      "text/plain": "              municipality  2008  2009  2010  2011  2012  2013  2014  2015  \\\n0              All Denmark  76.0  72.8  72.1  71.8  71.3  71.3  71.6  72.1   \n1       Region Hovedstaden  75.8  73.3  72.6  72.5  72.2  72.3  72.5  73.2   \n2  Province Byen København  73.4  71.0  70.5  70.5  70.4  70.6  70.9  71.6   \n3               Copenhagen  72.5  70.0  69.7  69.6  69.4  69.7  70.0  70.8   \n4            Frederiksberg  75.6  73.7  72.7  72.8  73.0  73.3  73.5  74.0   \n\n   2016  2017  \n0  72.8  73.6  \n1  73.8  74.4  \n2  72.3  73.0  \n3  71.5  72.2  \n4  74.7  75.6  ",
      "text/html": "<div>\n<style scoped>\n    .dataframe tbody tr th:only-of-type {\n        vertical-align: middle;\n    }\n\n    .dataframe tbody tr th {\n        vertical-align: top;\n    }\n\n    .dataframe thead th {\n        text-align: right;\n    }\n</style>\n<table border=\"1\" class=\"dataframe\">\n  <thead>\n    <tr style=\"text-align: right;\">\n      <th></th>\n      <th>municipality</th>\n      <th>2008</th>\n      <th>2009</th>\n      <th>2010</th>\n      <th>2011</th>\n      <th>2012</th>\n      <th>2013</th>\n      <th>2014</th>\n      <th>2015</th>\n      <th>2016</th>\n      <th>2017</th>\n    </tr>\n  </thead>\n  <tbody>\n    <tr>\n      <td>0</td>\n      <td>All Denmark</td>\n      <td>76.0</td>\n      <td>72.8</td>\n      <td>72.1</td>\n      <td>71.8</td>\n      <td>71.3</td>\n      <td>71.3</td>\n      <td>71.6</td>\n      <td>72.1</td>\n      <td>72.8</td>\n      <td>73.6</td>\n    </tr>\n    <tr>\n      <td>1</td>\n      <td>Region Hovedstaden</td>\n      <td>75.8</td>\n      <td>73.3</td>\n      <td>72.6</td>\n      <td>72.5</td>\n      <td>72.2</td>\n      <td>72.3</td>\n      <td>72.5</td>\n      <td>73.2</td>\n      <td>73.8</td>\n      <td>74.4</td>\n    </tr>\n    <tr>\n      <td>2</td>\n      <td>Province Byen København</td>\n      <td>73.4</td>\n      <td>71.0</td>\n      <td>70.5</td>\n      <td>70.5</td>\n      <td>70.4</td>\n      <td>70.6</td>\n      <td>70.9</td>\n      <td>71.6</td>\n      <td>72.3</td>\n      <td>73.0</td>\n    </tr>\n    <tr>\n      <td>3</td>\n      <td>Copenhagen</td>\n      <td>72.5</td>\n      <td>70.0</td>\n      <td>69.7</td>\n      <td>69.6</td>\n      <td>69.4</td>\n      <td>69.7</td>\n      <td>70.0</td>\n      <td>70.8</td>\n      <td>71.5</td>\n      <td>72.2</td>\n    </tr>\n    <tr>\n      <td>4</td>\n      <td>Frederiksberg</td>\n      <td>75.6</td>\n      <td>73.7</td>\n      <td>72.7</td>\n      <td>72.8</td>\n      <td>73.0</td>\n      <td>73.3</td>\n      <td>73.5</td>\n      <td>74.0</td>\n      <td>74.7</td>\n      <td>75.6</td>\n    </tr>\n  </tbody>\n</table>\n</div>"
     },
     "metadata": {},
     "execution_count": 8
    }
   ],
   "source": [
    "empl.head()"
   ]
  },
  {
   "cell_type": "markdown",
   "metadata": {},
   "source": [
    "**Remove all rows which are not municipalities**:"
   ]
  },
  {
   "cell_type": "code",
   "execution_count": 10,
   "metadata": {},
   "outputs": [
    {
     "output_type": "error",
     "ename": "NameError",
     "evalue": "name 'dataproject' is not defined",
     "traceback": [
      "\u001b[1;31m---------------------------------------------------------------------------\u001b[0m",
      "\u001b[1;31mNameError\u001b[0m                                 Traceback (most recent call last)",
      "\u001b[1;32m<ipython-input-10-21c434f30697>\u001b[0m in \u001b[0;36m<module>\u001b[1;34m\u001b[0m\n\u001b[1;32m----> 1\u001b[1;33m \u001b[0mempl\u001b[0m \u001b[1;33m=\u001b[0m \u001b[0mdataproject\u001b[0m\u001b[1;33m.\u001b[0m\u001b[0monly_keep_municipalities\u001b[0m\u001b[1;33m(\u001b[0m\u001b[0mempl\u001b[0m\u001b[1;33m)\u001b[0m\u001b[1;33m\u001b[0m\u001b[1;33m\u001b[0m\u001b[0m\n\u001b[0m\u001b[0;32m      2\u001b[0m \u001b[0mempl\u001b[0m\u001b[1;33m.\u001b[0m\u001b[0mhead\u001b[0m\u001b[1;33m(\u001b[0m\u001b[1;33m)\u001b[0m\u001b[1;33m\u001b[0m\u001b[1;33m\u001b[0m\u001b[0m\n",
      "\u001b[1;31mNameError\u001b[0m: name 'dataproject' is not defined"
     ]
    }
   ],
   "source": [
    "empl = dataproject.only_keep_municipalities(empl)\n",
    "empl.head()"
   ]
  },
  {
   "cell_type": "markdown",
   "metadata": {},
   "source": [
    "**Convert the dataset to long format**:"
   ]
  },
  {
   "cell_type": "code",
   "execution_count": null,
   "metadata": {},
   "outputs": [],
   "source": [
    "# a. rename year columns\n",
    "mydict = {str(i):f'employment{i}' for i in range(2008,2018)}\n",
    "empl.rename(columns = mydict, inplace=True)\n",
    "\n",
    "# b. convert to long\n",
    "empl_long = pd.wide_to_long(empl, stubnames='employment', i='municipality', j='year').reset_index()\n",
    "\n",
    "# c. show\n",
    "empl_long.head()"
   ]
  },
  {
   "cell_type": "markdown",
   "metadata": {},
   "source": [
    "## Income data"
   ]
  },
  {
   "cell_type": "markdown",
   "metadata": {},
   "source": [
    "**Read the income data** in ``INDKP101.xlsx`` and **clean it**:"
   ]
  },
  {
   "cell_type": "code",
   "execution_count": 14,
   "metadata": {},
   "outputs": [
    {
     "output_type": "error",
     "ename": "NameError",
     "evalue": "name 'dataproject' is not defined",
     "traceback": [
      "\u001b[1;31m---------------------------------------------------------------------------\u001b[0m",
      "\u001b[1;31mNameError\u001b[0m                                 Traceback (most recent call last)",
      "\u001b[1;32m<ipython-input-14-b427f534c66d>\u001b[0m in \u001b[0;36m<module>\u001b[1;34m\u001b[0m\n\u001b[0;32m     10\u001b[0m \u001b[1;33m\u001b[0m\u001b[0m\n\u001b[0;32m     11\u001b[0m \u001b[1;31m# d. remove non-municipalities\u001b[0m\u001b[1;33m\u001b[0m\u001b[1;33m\u001b[0m\u001b[1;33m\u001b[0m\u001b[0m\n\u001b[1;32m---> 12\u001b[1;33m \u001b[0minc\u001b[0m \u001b[1;33m=\u001b[0m \u001b[0mdataproject\u001b[0m\u001b[1;33m.\u001b[0m\u001b[0monly_keep_municipalities\u001b[0m\u001b[1;33m(\u001b[0m\u001b[0minc\u001b[0m\u001b[1;33m)\u001b[0m\u001b[1;33m\u001b[0m\u001b[1;33m\u001b[0m\u001b[0m\n\u001b[0m\u001b[0;32m     13\u001b[0m \u001b[1;33m\u001b[0m\u001b[0m\n\u001b[0;32m     14\u001b[0m \u001b[1;31m# e. convert to long\u001b[0m\u001b[1;33m\u001b[0m\u001b[1;33m\u001b[0m\u001b[1;33m\u001b[0m\u001b[0m\n",
      "\u001b[1;31mNameError\u001b[0m: name 'dataproject' is not defined"
     ]
    }
   ],
   "source": [
    "# a. load\n",
    "inc = pd.read_excel('INDKP101.xlsx', skiprows=2)\n",
    "\n",
    "# b. drop and rename columns\n",
    "inc.drop([f'Unnamed: {i}' for i in range(3)], axis=1, inplace=True)\n",
    "inc.rename(columns = {'Unnamed: 3':'municipality'}, inplace=True)\n",
    "\n",
    "# c. drop rows with missing\n",
    "inc.dropna(inplace=True)\n",
    "\n",
    "# d. remove non-municipalities\n",
    "inc = dataproject.only_keep_municipalities(inc)\n",
    "\n",
    "# e. convert to long\n",
    "inc.rename(columns = {str(i):f'income{i}' for i in range(1986,2018)}, inplace=True)\n",
    "inc_long = pd.wide_to_long(inc, stubnames='income', i='municipality', j='year').reset_index()\n",
    "\n",
    "# f. show\n",
    "inc_long.head(5)"
   ]
  },
  {
   "cell_type": "markdown",
   "metadata": {},
   "source": [
    "> **Note:** The function ``dataproject.only_keep_municipalities()`` is used on both the employment and the income datasets."
   ]
  },
  {
   "cell_type": "markdown",
   "metadata": {},
   "source": [
    "## Explore data set"
   ]
  },
  {
   "cell_type": "markdown",
   "metadata": {},
   "source": [
    "In order to be able to **explore the raw data**, we here provide an **interactive plot** to show, respectively, the employment and income level in each municipality"
   ]
  },
  {
   "cell_type": "markdown",
   "metadata": {},
   "source": [
    "The **static plot** is:"
   ]
  },
  {
   "cell_type": "code",
   "execution_count": null,
   "metadata": {},
   "outputs": [],
   "source": [
    "def plot_empl_inc(empl,inc,dataset,municipality): \n",
    "    \n",
    "    if dataset == 'Employment':\n",
    "        df = empl\n",
    "        y = 'employment'\n",
    "    else:\n",
    "        df = inc\n",
    "        y = 'income'\n",
    "    \n",
    "    I = df['municipality'] == municipality\n",
    "    ax = df.loc[I,:].plot(x='year', y=y, style='-o')"
   ]
  },
  {
   "cell_type": "markdown",
   "metadata": {},
   "source": [
    "The **interactive plot** is:"
   ]
  },
  {
   "cell_type": "code",
   "execution_count": 18,
   "metadata": {},
   "outputs": [
    {
     "output_type": "error",
     "ename": "NameError",
     "evalue": "name 'widgets' is not defined",
     "traceback": [
      "\u001b[1;31m---------------------------------------------------------------------------\u001b[0m",
      "\u001b[1;31mNameError\u001b[0m                                 Traceback (most recent call last)",
      "\u001b[1;32m<ipython-input-18-ca41cd5c3ed2>\u001b[0m in \u001b[0;36m<module>\u001b[1;34m\u001b[0m\n\u001b[1;32m----> 1\u001b[1;33m widgets.interact(plot_empl_inc, \n\u001b[0m\u001b[0;32m      2\u001b[0m \u001b[1;33m\u001b[0m\u001b[0m\n\u001b[0;32m      3\u001b[0m     \u001b[0mempl\u001b[0m \u001b[1;33m=\u001b[0m \u001b[0mwidgets\u001b[0m\u001b[1;33m.\u001b[0m\u001b[0mfixed\u001b[0m\u001b[1;33m(\u001b[0m\u001b[0mempl_long\u001b[0m\u001b[1;33m)\u001b[0m\u001b[1;33m,\u001b[0m\u001b[1;33m\u001b[0m\u001b[1;33m\u001b[0m\u001b[0m\n\u001b[0;32m      4\u001b[0m     \u001b[0minc\u001b[0m \u001b[1;33m=\u001b[0m \u001b[0mwidgets\u001b[0m\u001b[1;33m.\u001b[0m\u001b[0mfixed\u001b[0m\u001b[1;33m(\u001b[0m\u001b[0minc_long\u001b[0m\u001b[1;33m)\u001b[0m\u001b[1;33m,\u001b[0m\u001b[1;33m\u001b[0m\u001b[1;33m\u001b[0m\u001b[0m\n\u001b[0;32m      5\u001b[0m     dataset = widgets.Dropdown(description='Dataset', \n",
      "\u001b[1;31mNameError\u001b[0m: name 'widgets' is not defined"
     ]
    }
   ],
   "source": [
    "widgets.interact(plot_empl_inc, \n",
    "    \n",
    "    empl = widgets.fixed(empl_long),\n",
    "    inc = widgets.fixed(inc_long),\n",
    "    dataset = widgets.Dropdown(description='Dataset', \n",
    "                               options=['Employment','Income']),\n",
    "    municipality = widgets.Dropdown(description='Municipality', \n",
    "                                    options=empl_long.municipality.unique())\n",
    "                 \n",
    "); "
   ]
  },
  {
   "cell_type": "markdown",
   "metadata": {},
   "source": [
    "ADD SOMETHING HERE IF THE READER SHOULD KNOW THAT E.G. SOME MUNICIPALITY IS SPECIAL."
   ]
  },
  {
   "cell_type": "markdown",
   "metadata": {},
   "source": [
    "# Merge data sets"
   ]
  },
  {
   "cell_type": "markdown",
   "metadata": {},
   "source": [
    "We now create a data set with **municpalities which are in both of our data sets**. We can illustrate this **merge** as:"
   ]
  },
  {
   "cell_type": "code",
   "execution_count": null,
   "metadata": {},
   "outputs": [],
   "source": [
    "plt.figure(figsize=(15,7))\n",
    "v = venn2(subsets = (4, 4, 10), set_labels = ('inc', 'empl'))\n",
    "v.get_label_by_id('100').set_text('dropped')\n",
    "v.get_label_by_id('010').set_text('dropped' )\n",
    "v.get_label_by_id('110').set_text('included')\n",
    "plt.show()"
   ]
  },
  {
   "cell_type": "code",
   "execution_count": 22,
   "metadata": {},
   "outputs": [
    {
     "output_type": "error",
     "ename": "NameError",
     "evalue": "name 'inc_long' is not defined",
     "traceback": [
      "\u001b[1;31m---------------------------------------------------------------------------\u001b[0m",
      "\u001b[1;31mNameError\u001b[0m                                 Traceback (most recent call last)",
      "\u001b[1;32m<ipython-input-22-1fb44e356610>\u001b[0m in \u001b[0;36m<module>\u001b[1;34m\u001b[0m\n\u001b[1;32m----> 1\u001b[1;33m \u001b[0mmerged\u001b[0m \u001b[1;33m=\u001b[0m \u001b[0mpd\u001b[0m\u001b[1;33m.\u001b[0m\u001b[0mmerge\u001b[0m\u001b[1;33m(\u001b[0m\u001b[0mempl_long\u001b[0m\u001b[1;33m,\u001b[0m \u001b[0minc_long\u001b[0m\u001b[1;33m,\u001b[0m \u001b[0mhow\u001b[0m\u001b[1;33m=\u001b[0m\u001b[1;34m'inner'\u001b[0m\u001b[1;33m,\u001b[0m\u001b[0mon\u001b[0m\u001b[1;33m=\u001b[0m\u001b[1;33m[\u001b[0m\u001b[1;34m'municipality'\u001b[0m\u001b[1;33m,\u001b[0m\u001b[1;34m'year'\u001b[0m\u001b[1;33m]\u001b[0m\u001b[1;33m)\u001b[0m\u001b[1;33m\u001b[0m\u001b[1;33m\u001b[0m\u001b[0m\n\u001b[0m\u001b[0;32m      2\u001b[0m \u001b[1;33m\u001b[0m\u001b[0m\n\u001b[0;32m      3\u001b[0m \u001b[0mprint\u001b[0m\u001b[1;33m(\u001b[0m\u001b[1;34mf'Number of municipalities = {len(merged.municipality.unique())}'\u001b[0m\u001b[1;33m)\u001b[0m\u001b[1;33m\u001b[0m\u001b[1;33m\u001b[0m\u001b[0m\n\u001b[0;32m      4\u001b[0m \u001b[0mprint\u001b[0m\u001b[1;33m(\u001b[0m\u001b[1;34mf'Number of years          = {len(merged.year.unique())}'\u001b[0m\u001b[1;33m)\u001b[0m\u001b[1;33m\u001b[0m\u001b[1;33m\u001b[0m\u001b[0m\n",
      "\u001b[1;31mNameError\u001b[0m: name 'inc_long' is not defined"
     ]
    }
   ],
   "source": [
    "merged = pd.merge(empl_long, inc_long, how='inner',on=['municipality','year'])\n",
    "\n",
    "print(f'Number of municipalities = {len(merged.municipality.unique())}')\n",
    "print(f'Number of years          = {len(merged.year.unique())}')"
   ]
  },
  {
   "cell_type": "markdown",
   "metadata": {},
   "source": [
    "# Analysis"
   ]
  },
  {
   "cell_type": "markdown",
   "metadata": {},
   "source": [
    "To get a quick overview of the data, we show some **summary statistics by year**:"
   ]
  },
  {
   "cell_type": "code",
   "execution_count": 24,
   "metadata": {},
   "outputs": [
    {
     "output_type": "error",
     "ename": "NameError",
     "evalue": "name 'merged' is not defined",
     "traceback": [
      "\u001b[1;31m---------------------------------------------------------------------------\u001b[0m",
      "\u001b[1;31mNameError\u001b[0m                                 Traceback (most recent call last)",
      "\u001b[1;32m<ipython-input-24-992915abdeb0>\u001b[0m in \u001b[0;36m<module>\u001b[1;34m\u001b[0m\n\u001b[1;32m----> 1\u001b[1;33m \u001b[0mmerged\u001b[0m\u001b[1;33m.\u001b[0m\u001b[0mgroupby\u001b[0m\u001b[1;33m(\u001b[0m\u001b[1;34m'year'\u001b[0m\u001b[1;33m)\u001b[0m\u001b[1;33m.\u001b[0m\u001b[0magg\u001b[0m\u001b[1;33m(\u001b[0m\u001b[1;33m[\u001b[0m\u001b[1;34m'mean'\u001b[0m\u001b[1;33m,\u001b[0m\u001b[1;34m'std'\u001b[0m\u001b[1;33m]\u001b[0m\u001b[1;33m)\u001b[0m\u001b[1;33m.\u001b[0m\u001b[0mround\u001b[0m\u001b[1;33m(\u001b[0m\u001b[1;36m2\u001b[0m\u001b[1;33m)\u001b[0m\u001b[1;33m\u001b[0m\u001b[1;33m\u001b[0m\u001b[0m\n\u001b[0m",
      "\u001b[1;31mNameError\u001b[0m: name 'merged' is not defined"
     ]
    }
   ],
   "source": [
    "merged.groupby('year').agg(['mean','std']).round(2)"
   ]
  },
  {
   "cell_type": "markdown",
   "metadata": {},
   "source": [
    "ADD FURTHER ANALYSIS. EXPLAIN THE CODE BRIEFLY AND SUMMARIZE THE RESULTS."
   ]
  },
  {
   "cell_type": "markdown",
   "metadata": {},
   "source": [
    "# Conclusion"
   ]
  },
  {
   "cell_type": "markdown",
   "metadata": {},
   "source": [
    "ADD CONCISE CONLUSION."
   ]
  }
 ],
 "metadata": {
  "kernelspec": {
   "display_name": "Python 3.7.4 64-bit ('base': conda)",
   "language": "python",
   "name": "python37464bitbaseconda41682e1fe7ee4c88b0d504ae5e0de335"
  },
  "language_info": {
   "codemirror_mode": {
    "name": "ipython",
    "version": 3
   },
   "file_extension": ".py",
   "mimetype": "text/x-python",
   "name": "python",
   "nbconvert_exporter": "python",
   "pygments_lexer": "ipython3",
   "version": "3.7.4-final"
  },
  "toc-autonumbering": true
 },
 "nbformat": 4,
 "nbformat_minor": 4
}