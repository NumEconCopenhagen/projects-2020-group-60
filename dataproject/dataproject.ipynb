{
 "cells": [
  {
   "cell_type": "markdown",
   "metadata": {},
   "source": [
    "# Dataproject"
   ]
  },
  {
   "cell_type": "code",
   "execution_count": 24,
   "metadata": {},
   "outputs": [
    {
     "output_type": "stream",
     "name": "stdout",
     "text": "The autoreload extension is already loaded. To reload it, use:\n  %reload_ext autoreload\n[autoreload of dataproject failed: Traceback (most recent call last):\n  File \"C:\\Users\\mads\\Anaconda\\lib\\site-packages\\IPython\\extensions\\autoreload.py\", line 245, in check\n    superreload(m, reload, self.old_objects)\n  File \"C:\\Users\\mads\\Anaconda\\lib\\site-packages\\IPython\\extensions\\autoreload.py\", line 434, in superreload\n    module = reload(module)\n  File \"C:\\Users\\mads\\Anaconda\\lib\\imp.py\", line 314, in reload\n    return importlib.reload(module)\n  File \"C:\\Users\\mads\\Anaconda\\lib\\importlib\\__init__.py\", line 169, in reload\n    _bootstrap._exec(spec, module)\n  File \"<frozen importlib._bootstrap>\", line 630, in _exec\n  File \"<frozen importlib._bootstrap_external>\", line 728, in exec_module\n  File \"<frozen importlib._bootstrap>\", line 219, in _call_with_frames_removed\n  File \"c:\\Users\\mads\\OneDrive\\Dokumenter\\GitHub\\projects-2020-group-60\\dataproject\\dataproject.py\", line 49, in <module>\n    Inter_Reduc = Ínter.drop('Type', axis=1)\nNameError: name 'Ínter' is not defined\n]\n"
    }
   ],
   "source": [
    "%load_ext autoreload\n",
    "%autoreload 2\n",
    "# You can load your python module as this:\n",
    "import dataproject as dp\n",
    "import matplotlib.pyplot as plt"
   ]
  },
  {
   "cell_type": "markdown",
   "metadata": {},
   "source": [
    "# Datacleaning"
   ]
  },
  {
   "cell_type": "markdown",
   "metadata": {},
   "source": [
    "To begin with, we look through the table we have chosen, to finde the variables we want to inspect."
   ]
  },
  {
   "cell_type": "code",
   "execution_count": 25,
   "metadata": {},
   "outputs": [
    {
     "output_type": "execute_result",
     "data": {
      "text/plain": "array([['AKTPAS', 'assets/liabilities', False, False,\n        list([{'id': '5180', 'text': 'Number of members'}, {'id': '5190', 'text': 'Number of working members'}, {'id': '5200', 'text': 'Number of retired members'}, {'id': '5210', 'text': 'Number of retired spouses'}, {'id': '5220', 'text': 'Number of children who receive childrens pension'}, {'id': '5230', 'text': 'Current annual pension, total'}, {'id': '5240', 'text': 'Pension for members'}, {'id': '5250', 'text': 'Pension for spouses'}, {'id': '5260', 'text': 'Pension for children'}, {'id': '5270', 'text': 'Member contributions (miscellaneous income)'}, {'id': '5280', 'text': 'Of which extraordinary contributions'}, {'id': '5290', 'text': 'Interest income and profits (miscellaneous income)'}, {'id': '5300', 'text': 'Pensions (miscellaneous expenditure)'}, {'id': '5310', 'text': 'retirement allowances (miscellaneous expenditure)'}, {'id': '5320', 'text': 'Assets, total'}, {'id': '5330', 'text': 'Central government bonds (book value)'}, {'id': '5340', 'text': 'Other bonds (book value)'}, {'id': '5350', 'text': 'Mortgage credit bonds, etc. (book value)'}, {'id': '5360', 'text': 'Cash at bank and in hand'}, {'id': '5370', 'text': 'Mortgage credits'}, {'id': '5380', 'text': 'Loans with other collateral'}, {'id': '5390', 'text': 'Other assets'}, {'id': '5400', 'text': 'Premium reserves'}])],\n       ['TYPE', 'type', False, False,\n        list([{'id': '5410', 'text': 'Intersectoral pension funds '}, {'id': '5420', 'text': 'Corporate pension funds'}])],\n       ['Tid', 'time', False, True,\n        list([{'id': '2000', 'text': '2000'}, {'id': '2001', 'text': '2001'}, {'id': '2002', 'text': '2002'}, {'id': '2003', 'text': '2003'}, {'id': '2004', 'text': '2004'}, {'id': '2005', 'text': '2005'}, {'id': '2006', 'text': '2006'}, {'id': '2007', 'text': '2007'}, {'id': '2008', 'text': '2008'}, {'id': '2009', 'text': '2009'}, {'id': '2010', 'text': '2010'}, {'id': '2011', 'text': '2011'}, {'id': '2012', 'text': '2012'}, {'id': '2013', 'text': '2013'}, {'id': '2014', 'text': '2014'}, {'id': '2015', 'text': '2015'}, {'id': '2016', 'text': '2016'}, {'id': '2017', 'text': '2017'}, {'id': '2018', 'text': '2018'}])]],\n      dtype=object)"
     },
     "metadata": {},
     "execution_count": 25
    }
   ],
   "source": [
    "dp.vars.values"
   ]
  },
  {
   "cell_type": "markdown",
   "metadata": {},
   "source": [
    "**Following we can seen every different tables coded in the dp.py file to achieve our reduced table where all the data is cleaned.**"
   ]
  },
  {
   "cell_type": "code",
   "execution_count": 26,
   "metadata": {},
   "outputs": [
    {
     "output_type": "execute_result",
     "data": {
      "text/plain": "   Assets & Liabilities  Year                          Type  Amount\n0         Assets, total  2000  Intersectoral pension funds   269482\n1         Assets, total  2000       Corporate pension funds   43315\n2         Assets, total  2001  Intersectoral pension funds   272145\n3         Assets, total  2001       Corporate pension funds   39984\n4         Assets, total  2002  Intersectoral pension funds   277018\n5         Assets, total  2002       Corporate pension funds   37077\n6         Assets, total  2003  Intersectoral pension funds   301892\n7         Assets, total  2003       Corporate pension funds   38191\n8         Assets, total  2004  Intersectoral pension funds   339245\n9         Assets, total  2004       Corporate pension funds   39185\n10        Assets, total  2005  Intersectoral pension funds   381048\n11        Assets, total  2005       Corporate pension funds   42474\n12        Assets, total  2006  Intersectoral pension funds   402367\n13        Assets, total  2006       Corporate pension funds   42920\n14        Assets, total  2007  Intersectoral pension funds   412251\n15        Assets, total  2007       Corporate pension funds   43027\n16        Assets, total  2008  Intersectoral pension funds   395954\n17        Assets, total  2008       Corporate pension funds   42714\n18        Assets, total  2009  Intersectoral pension funds   435996\n19        Assets, total  2009       Corporate pension funds   45328\n20        Assets, total  2010  Intersectoral pension funds   439697\n21        Assets, total  2010       Corporate pension funds   50789\n22        Assets, total  2011  Intersectoral pension funds   555614\n23        Assets, total  2011       Corporate pension funds   53019\n24        Assets, total  2012  Intersectoral pension funds   565033\n25        Assets, total  2012       Corporate pension funds   57381\n26        Assets, total  2013  Intersectoral pension funds   585232\n27        Assets, total  2013       Corporate pension funds   52661\n28        Assets, total  2014  Intersectoral pension funds   646091\n29        Assets, total  2014       Corporate pension funds   59433\n30        Assets, total  2015  Intersectoral pension funds   671570\n31        Assets, total  2015       Corporate pension funds   59821\n32        Assets, total  2016  Intersectoral pension funds   691892\n33        Assets, total  2016       Corporate pension funds   59133",
      "text/html": "<div>\n<style scoped>\n    .dataframe tbody tr th:only-of-type {\n        vertical-align: middle;\n    }\n\n    .dataframe tbody tr th {\n        vertical-align: top;\n    }\n\n    .dataframe thead th {\n        text-align: right;\n    }\n</style>\n<table border=\"1\" class=\"dataframe\">\n  <thead>\n    <tr style=\"text-align: right;\">\n      <th></th>\n      <th>Assets &amp; Liabilities</th>\n      <th>Year</th>\n      <th>Type</th>\n      <th>Amount</th>\n    </tr>\n  </thead>\n  <tbody>\n    <tr>\n      <td>0</td>\n      <td>Assets, total</td>\n      <td>2000</td>\n      <td>Intersectoral pension funds</td>\n      <td>269482</td>\n    </tr>\n    <tr>\n      <td>1</td>\n      <td>Assets, total</td>\n      <td>2000</td>\n      <td>Corporate pension funds</td>\n      <td>43315</td>\n    </tr>\n    <tr>\n      <td>2</td>\n      <td>Assets, total</td>\n      <td>2001</td>\n      <td>Intersectoral pension funds</td>\n      <td>272145</td>\n    </tr>\n    <tr>\n      <td>3</td>\n      <td>Assets, total</td>\n      <td>2001</td>\n      <td>Corporate pension funds</td>\n      <td>39984</td>\n    </tr>\n    <tr>\n      <td>4</td>\n      <td>Assets, total</td>\n      <td>2002</td>\n      <td>Intersectoral pension funds</td>\n      <td>277018</td>\n    </tr>\n    <tr>\n      <td>5</td>\n      <td>Assets, total</td>\n      <td>2002</td>\n      <td>Corporate pension funds</td>\n      <td>37077</td>\n    </tr>\n    <tr>\n      <td>6</td>\n      <td>Assets, total</td>\n      <td>2003</td>\n      <td>Intersectoral pension funds</td>\n      <td>301892</td>\n    </tr>\n    <tr>\n      <td>7</td>\n      <td>Assets, total</td>\n      <td>2003</td>\n      <td>Corporate pension funds</td>\n      <td>38191</td>\n    </tr>\n    <tr>\n      <td>8</td>\n      <td>Assets, total</td>\n      <td>2004</td>\n      <td>Intersectoral pension funds</td>\n      <td>339245</td>\n    </tr>\n    <tr>\n      <td>9</td>\n      <td>Assets, total</td>\n      <td>2004</td>\n      <td>Corporate pension funds</td>\n      <td>39185</td>\n    </tr>\n    <tr>\n      <td>10</td>\n      <td>Assets, total</td>\n      <td>2005</td>\n      <td>Intersectoral pension funds</td>\n      <td>381048</td>\n    </tr>\n    <tr>\n      <td>11</td>\n      <td>Assets, total</td>\n      <td>2005</td>\n      <td>Corporate pension funds</td>\n      <td>42474</td>\n    </tr>\n    <tr>\n      <td>12</td>\n      <td>Assets, total</td>\n      <td>2006</td>\n      <td>Intersectoral pension funds</td>\n      <td>402367</td>\n    </tr>\n    <tr>\n      <td>13</td>\n      <td>Assets, total</td>\n      <td>2006</td>\n      <td>Corporate pension funds</td>\n      <td>42920</td>\n    </tr>\n    <tr>\n      <td>14</td>\n      <td>Assets, total</td>\n      <td>2007</td>\n      <td>Intersectoral pension funds</td>\n      <td>412251</td>\n    </tr>\n    <tr>\n      <td>15</td>\n      <td>Assets, total</td>\n      <td>2007</td>\n      <td>Corporate pension funds</td>\n      <td>43027</td>\n    </tr>\n    <tr>\n      <td>16</td>\n      <td>Assets, total</td>\n      <td>2008</td>\n      <td>Intersectoral pension funds</td>\n      <td>395954</td>\n    </tr>\n    <tr>\n      <td>17</td>\n      <td>Assets, total</td>\n      <td>2008</td>\n      <td>Corporate pension funds</td>\n      <td>42714</td>\n    </tr>\n    <tr>\n      <td>18</td>\n      <td>Assets, total</td>\n      <td>2009</td>\n      <td>Intersectoral pension funds</td>\n      <td>435996</td>\n    </tr>\n    <tr>\n      <td>19</td>\n      <td>Assets, total</td>\n      <td>2009</td>\n      <td>Corporate pension funds</td>\n      <td>45328</td>\n    </tr>\n    <tr>\n      <td>20</td>\n      <td>Assets, total</td>\n      <td>2010</td>\n      <td>Intersectoral pension funds</td>\n      <td>439697</td>\n    </tr>\n    <tr>\n      <td>21</td>\n      <td>Assets, total</td>\n      <td>2010</td>\n      <td>Corporate pension funds</td>\n      <td>50789</td>\n    </tr>\n    <tr>\n      <td>22</td>\n      <td>Assets, total</td>\n      <td>2011</td>\n      <td>Intersectoral pension funds</td>\n      <td>555614</td>\n    </tr>\n    <tr>\n      <td>23</td>\n      <td>Assets, total</td>\n      <td>2011</td>\n      <td>Corporate pension funds</td>\n      <td>53019</td>\n    </tr>\n    <tr>\n      <td>24</td>\n      <td>Assets, total</td>\n      <td>2012</td>\n      <td>Intersectoral pension funds</td>\n      <td>565033</td>\n    </tr>\n    <tr>\n      <td>25</td>\n      <td>Assets, total</td>\n      <td>2012</td>\n      <td>Corporate pension funds</td>\n      <td>57381</td>\n    </tr>\n    <tr>\n      <td>26</td>\n      <td>Assets, total</td>\n      <td>2013</td>\n      <td>Intersectoral pension funds</td>\n      <td>585232</td>\n    </tr>\n    <tr>\n      <td>27</td>\n      <td>Assets, total</td>\n      <td>2013</td>\n      <td>Corporate pension funds</td>\n      <td>52661</td>\n    </tr>\n    <tr>\n      <td>28</td>\n      <td>Assets, total</td>\n      <td>2014</td>\n      <td>Intersectoral pension funds</td>\n      <td>646091</td>\n    </tr>\n    <tr>\n      <td>29</td>\n      <td>Assets, total</td>\n      <td>2014</td>\n      <td>Corporate pension funds</td>\n      <td>59433</td>\n    </tr>\n    <tr>\n      <td>30</td>\n      <td>Assets, total</td>\n      <td>2015</td>\n      <td>Intersectoral pension funds</td>\n      <td>671570</td>\n    </tr>\n    <tr>\n      <td>31</td>\n      <td>Assets, total</td>\n      <td>2015</td>\n      <td>Corporate pension funds</td>\n      <td>59821</td>\n    </tr>\n    <tr>\n      <td>32</td>\n      <td>Assets, total</td>\n      <td>2016</td>\n      <td>Intersectoral pension funds</td>\n      <td>691892</td>\n    </tr>\n    <tr>\n      <td>33</td>\n      <td>Assets, total</td>\n      <td>2016</td>\n      <td>Corporate pension funds</td>\n      <td>59133</td>\n    </tr>\n  </tbody>\n</table>\n</div>"
     },
     "metadata": {},
     "execution_count": 26
    }
   ],
   "source": [
    "dp.Data"
   ]
  },
  {
   "cell_type": "code",
   "execution_count": 27,
   "metadata": {},
   "outputs": [
    {
     "output_type": "execute_result",
     "data": {
      "text/plain": "     Assets & Liabilities                          Type  Amount\nYear                                                           \n2000        Assets, total  Intersectoral pension funds   269482\n2000        Assets, total       Corporate pension funds   43315\n2001        Assets, total  Intersectoral pension funds   272145\n2001        Assets, total       Corporate pension funds   39984\n2002        Assets, total  Intersectoral pension funds   277018\n2002        Assets, total       Corporate pension funds   37077\n2003        Assets, total  Intersectoral pension funds   301892\n2003        Assets, total       Corporate pension funds   38191\n2004        Assets, total  Intersectoral pension funds   339245\n2004        Assets, total       Corporate pension funds   39185\n2005        Assets, total  Intersectoral pension funds   381048\n2005        Assets, total       Corporate pension funds   42474\n2006        Assets, total  Intersectoral pension funds   402367\n2006        Assets, total       Corporate pension funds   42920\n2007        Assets, total  Intersectoral pension funds   412251\n2007        Assets, total       Corporate pension funds   43027\n2008        Assets, total  Intersectoral pension funds   395954\n2008        Assets, total       Corporate pension funds   42714\n2009        Assets, total  Intersectoral pension funds   435996\n2009        Assets, total       Corporate pension funds   45328\n2010        Assets, total  Intersectoral pension funds   439697\n2010        Assets, total       Corporate pension funds   50789\n2011        Assets, total  Intersectoral pension funds   555614\n2011        Assets, total       Corporate pension funds   53019\n2012        Assets, total  Intersectoral pension funds   565033\n2012        Assets, total       Corporate pension funds   57381\n2013        Assets, total  Intersectoral pension funds   585232\n2013        Assets, total       Corporate pension funds   52661\n2014        Assets, total  Intersectoral pension funds   646091\n2014        Assets, total       Corporate pension funds   59433\n2015        Assets, total  Intersectoral pension funds   671570\n2015        Assets, total       Corporate pension funds   59821\n2016        Assets, total  Intersectoral pension funds   691892\n2016        Assets, total       Corporate pension funds   59133",
      "text/html": "<div>\n<style scoped>\n    .dataframe tbody tr th:only-of-type {\n        vertical-align: middle;\n    }\n\n    .dataframe tbody tr th {\n        vertical-align: top;\n    }\n\n    .dataframe thead th {\n        text-align: right;\n    }\n</style>\n<table border=\"1\" class=\"dataframe\">\n  <thead>\n    <tr style=\"text-align: right;\">\n      <th></th>\n      <th>Assets &amp; Liabilities</th>\n      <th>Type</th>\n      <th>Amount</th>\n    </tr>\n    <tr>\n      <th>Year</th>\n      <th></th>\n      <th></th>\n      <th></th>\n    </tr>\n  </thead>\n  <tbody>\n    <tr>\n      <td>2000</td>\n      <td>Assets, total</td>\n      <td>Intersectoral pension funds</td>\n      <td>269482</td>\n    </tr>\n    <tr>\n      <td>2000</td>\n      <td>Assets, total</td>\n      <td>Corporate pension funds</td>\n      <td>43315</td>\n    </tr>\n    <tr>\n      <td>2001</td>\n      <td>Assets, total</td>\n      <td>Intersectoral pension funds</td>\n      <td>272145</td>\n    </tr>\n    <tr>\n      <td>2001</td>\n      <td>Assets, total</td>\n      <td>Corporate pension funds</td>\n      <td>39984</td>\n    </tr>\n    <tr>\n      <td>2002</td>\n      <td>Assets, total</td>\n      <td>Intersectoral pension funds</td>\n      <td>277018</td>\n    </tr>\n    <tr>\n      <td>2002</td>\n      <td>Assets, total</td>\n      <td>Corporate pension funds</td>\n      <td>37077</td>\n    </tr>\n    <tr>\n      <td>2003</td>\n      <td>Assets, total</td>\n      <td>Intersectoral pension funds</td>\n      <td>301892</td>\n    </tr>\n    <tr>\n      <td>2003</td>\n      <td>Assets, total</td>\n      <td>Corporate pension funds</td>\n      <td>38191</td>\n    </tr>\n    <tr>\n      <td>2004</td>\n      <td>Assets, total</td>\n      <td>Intersectoral pension funds</td>\n      <td>339245</td>\n    </tr>\n    <tr>\n      <td>2004</td>\n      <td>Assets, total</td>\n      <td>Corporate pension funds</td>\n      <td>39185</td>\n    </tr>\n    <tr>\n      <td>2005</td>\n      <td>Assets, total</td>\n      <td>Intersectoral pension funds</td>\n      <td>381048</td>\n    </tr>\n    <tr>\n      <td>2005</td>\n      <td>Assets, total</td>\n      <td>Corporate pension funds</td>\n      <td>42474</td>\n    </tr>\n    <tr>\n      <td>2006</td>\n      <td>Assets, total</td>\n      <td>Intersectoral pension funds</td>\n      <td>402367</td>\n    </tr>\n    <tr>\n      <td>2006</td>\n      <td>Assets, total</td>\n      <td>Corporate pension funds</td>\n      <td>42920</td>\n    </tr>\n    <tr>\n      <td>2007</td>\n      <td>Assets, total</td>\n      <td>Intersectoral pension funds</td>\n      <td>412251</td>\n    </tr>\n    <tr>\n      <td>2007</td>\n      <td>Assets, total</td>\n      <td>Corporate pension funds</td>\n      <td>43027</td>\n    </tr>\n    <tr>\n      <td>2008</td>\n      <td>Assets, total</td>\n      <td>Intersectoral pension funds</td>\n      <td>395954</td>\n    </tr>\n    <tr>\n      <td>2008</td>\n      <td>Assets, total</td>\n      <td>Corporate pension funds</td>\n      <td>42714</td>\n    </tr>\n    <tr>\n      <td>2009</td>\n      <td>Assets, total</td>\n      <td>Intersectoral pension funds</td>\n      <td>435996</td>\n    </tr>\n    <tr>\n      <td>2009</td>\n      <td>Assets, total</td>\n      <td>Corporate pension funds</td>\n      <td>45328</td>\n    </tr>\n    <tr>\n      <td>2010</td>\n      <td>Assets, total</td>\n      <td>Intersectoral pension funds</td>\n      <td>439697</td>\n    </tr>\n    <tr>\n      <td>2010</td>\n      <td>Assets, total</td>\n      <td>Corporate pension funds</td>\n      <td>50789</td>\n    </tr>\n    <tr>\n      <td>2011</td>\n      <td>Assets, total</td>\n      <td>Intersectoral pension funds</td>\n      <td>555614</td>\n    </tr>\n    <tr>\n      <td>2011</td>\n      <td>Assets, total</td>\n      <td>Corporate pension funds</td>\n      <td>53019</td>\n    </tr>\n    <tr>\n      <td>2012</td>\n      <td>Assets, total</td>\n      <td>Intersectoral pension funds</td>\n      <td>565033</td>\n    </tr>\n    <tr>\n      <td>2012</td>\n      <td>Assets, total</td>\n      <td>Corporate pension funds</td>\n      <td>57381</td>\n    </tr>\n    <tr>\n      <td>2013</td>\n      <td>Assets, total</td>\n      <td>Intersectoral pension funds</td>\n      <td>585232</td>\n    </tr>\n    <tr>\n      <td>2013</td>\n      <td>Assets, total</td>\n      <td>Corporate pension funds</td>\n      <td>52661</td>\n    </tr>\n    <tr>\n      <td>2014</td>\n      <td>Assets, total</td>\n      <td>Intersectoral pension funds</td>\n      <td>646091</td>\n    </tr>\n    <tr>\n      <td>2014</td>\n      <td>Assets, total</td>\n      <td>Corporate pension funds</td>\n      <td>59433</td>\n    </tr>\n    <tr>\n      <td>2015</td>\n      <td>Assets, total</td>\n      <td>Intersectoral pension funds</td>\n      <td>671570</td>\n    </tr>\n    <tr>\n      <td>2015</td>\n      <td>Assets, total</td>\n      <td>Corporate pension funds</td>\n      <td>59821</td>\n    </tr>\n    <tr>\n      <td>2016</td>\n      <td>Assets, total</td>\n      <td>Intersectoral pension funds</td>\n      <td>691892</td>\n    </tr>\n    <tr>\n      <td>2016</td>\n      <td>Assets, total</td>\n      <td>Corporate pension funds</td>\n      <td>59133</td>\n    </tr>\n  </tbody>\n</table>\n</div>"
     },
     "metadata": {},
     "execution_count": 27
    }
   ],
   "source": [
    "dp.Index"
   ]
  },
  {
   "cell_type": "code",
   "execution_count": 28,
   "metadata": {},
   "outputs": [
    {
     "output_type": "execute_result",
     "data": {
      "text/plain": "                              Type Assets & Liabilities  Amount\nYear                                                           \n2000  Intersectoral pension funds         Assets, total  269482\n2000       Corporate pension funds        Assets, total   43315\n2001  Intersectoral pension funds         Assets, total  272145\n2001       Corporate pension funds        Assets, total   39984\n2002  Intersectoral pension funds         Assets, total  277018\n2002       Corporate pension funds        Assets, total   37077\n2003  Intersectoral pension funds         Assets, total  301892\n2003       Corporate pension funds        Assets, total   38191\n2004  Intersectoral pension funds         Assets, total  339245\n2004       Corporate pension funds        Assets, total   39185\n2005  Intersectoral pension funds         Assets, total  381048\n2005       Corporate pension funds        Assets, total   42474\n2006  Intersectoral pension funds         Assets, total  402367\n2006       Corporate pension funds        Assets, total   42920\n2007  Intersectoral pension funds         Assets, total  412251\n2007       Corporate pension funds        Assets, total   43027\n2008  Intersectoral pension funds         Assets, total  395954\n2008       Corporate pension funds        Assets, total   42714\n2009  Intersectoral pension funds         Assets, total  435996\n2009       Corporate pension funds        Assets, total   45328\n2010  Intersectoral pension funds         Assets, total  439697\n2010       Corporate pension funds        Assets, total   50789\n2011  Intersectoral pension funds         Assets, total  555614\n2011       Corporate pension funds        Assets, total   53019\n2012  Intersectoral pension funds         Assets, total  565033\n2012       Corporate pension funds        Assets, total   57381\n2013  Intersectoral pension funds         Assets, total  585232\n2013       Corporate pension funds        Assets, total   52661\n2014  Intersectoral pension funds         Assets, total  646091\n2014       Corporate pension funds        Assets, total   59433\n2015  Intersectoral pension funds         Assets, total  671570\n2015       Corporate pension funds        Assets, total   59821\n2016  Intersectoral pension funds         Assets, total  691892\n2016       Corporate pension funds        Assets, total   59133",
      "text/html": "<div>\n<style scoped>\n    .dataframe tbody tr th:only-of-type {\n        vertical-align: middle;\n    }\n\n    .dataframe tbody tr th {\n        vertical-align: top;\n    }\n\n    .dataframe thead th {\n        text-align: right;\n    }\n</style>\n<table border=\"1\" class=\"dataframe\">\n  <thead>\n    <tr style=\"text-align: right;\">\n      <th></th>\n      <th>Type</th>\n      <th>Assets &amp; Liabilities</th>\n      <th>Amount</th>\n    </tr>\n    <tr>\n      <th>Year</th>\n      <th></th>\n      <th></th>\n      <th></th>\n    </tr>\n  </thead>\n  <tbody>\n    <tr>\n      <td>2000</td>\n      <td>Intersectoral pension funds</td>\n      <td>Assets, total</td>\n      <td>269482</td>\n    </tr>\n    <tr>\n      <td>2000</td>\n      <td>Corporate pension funds</td>\n      <td>Assets, total</td>\n      <td>43315</td>\n    </tr>\n    <tr>\n      <td>2001</td>\n      <td>Intersectoral pension funds</td>\n      <td>Assets, total</td>\n      <td>272145</td>\n    </tr>\n    <tr>\n      <td>2001</td>\n      <td>Corporate pension funds</td>\n      <td>Assets, total</td>\n      <td>39984</td>\n    </tr>\n    <tr>\n      <td>2002</td>\n      <td>Intersectoral pension funds</td>\n      <td>Assets, total</td>\n      <td>277018</td>\n    </tr>\n    <tr>\n      <td>2002</td>\n      <td>Corporate pension funds</td>\n      <td>Assets, total</td>\n      <td>37077</td>\n    </tr>\n    <tr>\n      <td>2003</td>\n      <td>Intersectoral pension funds</td>\n      <td>Assets, total</td>\n      <td>301892</td>\n    </tr>\n    <tr>\n      <td>2003</td>\n      <td>Corporate pension funds</td>\n      <td>Assets, total</td>\n      <td>38191</td>\n    </tr>\n    <tr>\n      <td>2004</td>\n      <td>Intersectoral pension funds</td>\n      <td>Assets, total</td>\n      <td>339245</td>\n    </tr>\n    <tr>\n      <td>2004</td>\n      <td>Corporate pension funds</td>\n      <td>Assets, total</td>\n      <td>39185</td>\n    </tr>\n    <tr>\n      <td>2005</td>\n      <td>Intersectoral pension funds</td>\n      <td>Assets, total</td>\n      <td>381048</td>\n    </tr>\n    <tr>\n      <td>2005</td>\n      <td>Corporate pension funds</td>\n      <td>Assets, total</td>\n      <td>42474</td>\n    </tr>\n    <tr>\n      <td>2006</td>\n      <td>Intersectoral pension funds</td>\n      <td>Assets, total</td>\n      <td>402367</td>\n    </tr>\n    <tr>\n      <td>2006</td>\n      <td>Corporate pension funds</td>\n      <td>Assets, total</td>\n      <td>42920</td>\n    </tr>\n    <tr>\n      <td>2007</td>\n      <td>Intersectoral pension funds</td>\n      <td>Assets, total</td>\n      <td>412251</td>\n    </tr>\n    <tr>\n      <td>2007</td>\n      <td>Corporate pension funds</td>\n      <td>Assets, total</td>\n      <td>43027</td>\n    </tr>\n    <tr>\n      <td>2008</td>\n      <td>Intersectoral pension funds</td>\n      <td>Assets, total</td>\n      <td>395954</td>\n    </tr>\n    <tr>\n      <td>2008</td>\n      <td>Corporate pension funds</td>\n      <td>Assets, total</td>\n      <td>42714</td>\n    </tr>\n    <tr>\n      <td>2009</td>\n      <td>Intersectoral pension funds</td>\n      <td>Assets, total</td>\n      <td>435996</td>\n    </tr>\n    <tr>\n      <td>2009</td>\n      <td>Corporate pension funds</td>\n      <td>Assets, total</td>\n      <td>45328</td>\n    </tr>\n    <tr>\n      <td>2010</td>\n      <td>Intersectoral pension funds</td>\n      <td>Assets, total</td>\n      <td>439697</td>\n    </tr>\n    <tr>\n      <td>2010</td>\n      <td>Corporate pension funds</td>\n      <td>Assets, total</td>\n      <td>50789</td>\n    </tr>\n    <tr>\n      <td>2011</td>\n      <td>Intersectoral pension funds</td>\n      <td>Assets, total</td>\n      <td>555614</td>\n    </tr>\n    <tr>\n      <td>2011</td>\n      <td>Corporate pension funds</td>\n      <td>Assets, total</td>\n      <td>53019</td>\n    </tr>\n    <tr>\n      <td>2012</td>\n      <td>Intersectoral pension funds</td>\n      <td>Assets, total</td>\n      <td>565033</td>\n    </tr>\n    <tr>\n      <td>2012</td>\n      <td>Corporate pension funds</td>\n      <td>Assets, total</td>\n      <td>57381</td>\n    </tr>\n    <tr>\n      <td>2013</td>\n      <td>Intersectoral pension funds</td>\n      <td>Assets, total</td>\n      <td>585232</td>\n    </tr>\n    <tr>\n      <td>2013</td>\n      <td>Corporate pension funds</td>\n      <td>Assets, total</td>\n      <td>52661</td>\n    </tr>\n    <tr>\n      <td>2014</td>\n      <td>Intersectoral pension funds</td>\n      <td>Assets, total</td>\n      <td>646091</td>\n    </tr>\n    <tr>\n      <td>2014</td>\n      <td>Corporate pension funds</td>\n      <td>Assets, total</td>\n      <td>59433</td>\n    </tr>\n    <tr>\n      <td>2015</td>\n      <td>Intersectoral pension funds</td>\n      <td>Assets, total</td>\n      <td>671570</td>\n    </tr>\n    <tr>\n      <td>2015</td>\n      <td>Corporate pension funds</td>\n      <td>Assets, total</td>\n      <td>59821</td>\n    </tr>\n    <tr>\n      <td>2016</td>\n      <td>Intersectoral pension funds</td>\n      <td>Assets, total</td>\n      <td>691892</td>\n    </tr>\n    <tr>\n      <td>2016</td>\n      <td>Corporate pension funds</td>\n      <td>Assets, total</td>\n      <td>59133</td>\n    </tr>\n  </tbody>\n</table>\n</div>"
     },
     "metadata": {},
     "execution_count": 28
    }
   ],
   "source": [
    "dp.Sort"
   ]
  },
  {
   "cell_type": "code",
   "execution_count": 29,
   "metadata": {},
   "outputs": [
    {
     "output_type": "execute_result",
     "data": {
      "text/plain": "     Assets & Liabilities  Corporate pension funds in mio kr.\nYear                                                         \n2000        Assets, total                               43315\n2001        Assets, total                               39984\n2002        Assets, total                               37077\n2003        Assets, total                               38191\n2004        Assets, total                               39185\n2005        Assets, total                               42474\n2006        Assets, total                               42920\n2007        Assets, total                               43027\n2008        Assets, total                               42714\n2009        Assets, total                               45328\n2010        Assets, total                               50789\n2011        Assets, total                               53019\n2012        Assets, total                               57381\n2013        Assets, total                               52661\n2014        Assets, total                               59433\n2015        Assets, total                               59821\n2016        Assets, total                               59133",
      "text/html": "<div>\n<style scoped>\n    .dataframe tbody tr th:only-of-type {\n        vertical-align: middle;\n    }\n\n    .dataframe tbody tr th {\n        vertical-align: top;\n    }\n\n    .dataframe thead th {\n        text-align: right;\n    }\n</style>\n<table border=\"1\" class=\"dataframe\">\n  <thead>\n    <tr style=\"text-align: right;\">\n      <th></th>\n      <th>Assets &amp; Liabilities</th>\n      <th>Corporate pension funds in mio kr.</th>\n    </tr>\n    <tr>\n      <th>Year</th>\n      <th></th>\n      <th></th>\n    </tr>\n  </thead>\n  <tbody>\n    <tr>\n      <td>2000</td>\n      <td>Assets, total</td>\n      <td>43315</td>\n    </tr>\n    <tr>\n      <td>2001</td>\n      <td>Assets, total</td>\n      <td>39984</td>\n    </tr>\n    <tr>\n      <td>2002</td>\n      <td>Assets, total</td>\n      <td>37077</td>\n    </tr>\n    <tr>\n      <td>2003</td>\n      <td>Assets, total</td>\n      <td>38191</td>\n    </tr>\n    <tr>\n      <td>2004</td>\n      <td>Assets, total</td>\n      <td>39185</td>\n    </tr>\n    <tr>\n      <td>2005</td>\n      <td>Assets, total</td>\n      <td>42474</td>\n    </tr>\n    <tr>\n      <td>2006</td>\n      <td>Assets, total</td>\n      <td>42920</td>\n    </tr>\n    <tr>\n      <td>2007</td>\n      <td>Assets, total</td>\n      <td>43027</td>\n    </tr>\n    <tr>\n      <td>2008</td>\n      <td>Assets, total</td>\n      <td>42714</td>\n    </tr>\n    <tr>\n      <td>2009</td>\n      <td>Assets, total</td>\n      <td>45328</td>\n    </tr>\n    <tr>\n      <td>2010</td>\n      <td>Assets, total</td>\n      <td>50789</td>\n    </tr>\n    <tr>\n      <td>2011</td>\n      <td>Assets, total</td>\n      <td>53019</td>\n    </tr>\n    <tr>\n      <td>2012</td>\n      <td>Assets, total</td>\n      <td>57381</td>\n    </tr>\n    <tr>\n      <td>2013</td>\n      <td>Assets, total</td>\n      <td>52661</td>\n    </tr>\n    <tr>\n      <td>2014</td>\n      <td>Assets, total</td>\n      <td>59433</td>\n    </tr>\n    <tr>\n      <td>2015</td>\n      <td>Assets, total</td>\n      <td>59821</td>\n    </tr>\n    <tr>\n      <td>2016</td>\n      <td>Assets, total</td>\n      <td>59133</td>\n    </tr>\n  </tbody>\n</table>\n</div>"
     },
     "metadata": {},
     "execution_count": 29
    }
   ],
   "source": [
    "dp.Corp_Reduc"
   ]
  },
  {
   "cell_type": "code",
   "execution_count": 30,
   "metadata": {},
   "outputs": [
    {
     "output_type": "error",
     "ename": "AttributeError",
     "evalue": "module 'dataproject' has no attribute 'Inter_Reduc'",
     "traceback": [
      "\u001b[1;31m---------------------------------------------------------------------------\u001b[0m",
      "\u001b[1;31mAttributeError\u001b[0m                            Traceback (most recent call last)",
      "\u001b[1;32m<ipython-input-30-6f20f50f9d0b>\u001b[0m in \u001b[0;36m<module>\u001b[1;34m\u001b[0m\n\u001b[1;32m----> 1\u001b[1;33m \u001b[0mdp\u001b[0m\u001b[1;33m.\u001b[0m\u001b[0mInter_Reduc\u001b[0m\u001b[1;33m\u001b[0m\u001b[1;33m\u001b[0m\u001b[0m\n\u001b[0m",
      "\u001b[1;31mAttributeError\u001b[0m: module 'dataproject' has no attribute 'Inter_Reduc'"
     ]
    }
   ],
   "source": [
    "dp.Inter_Reduc"
   ]
  },
  {
   "cell_type": "code",
   "execution_count": 31,
   "metadata": {},
   "outputs": [
    {
     "output_type": "error",
     "ename": "AttributeError",
     "evalue": "module 'dataproject' has no attribute 'Complete'",
     "traceback": [
      "\u001b[1;31m---------------------------------------------------------------------------\u001b[0m",
      "\u001b[1;31mAttributeError\u001b[0m                            Traceback (most recent call last)",
      "\u001b[1;32m<ipython-input-31-3086cb83e357>\u001b[0m in \u001b[0;36m<module>\u001b[1;34m\u001b[0m\n\u001b[1;32m----> 1\u001b[1;33m \u001b[0mdp\u001b[0m\u001b[1;33m.\u001b[0m\u001b[0mComplete\u001b[0m\u001b[1;33m\u001b[0m\u001b[1;33m\u001b[0m\u001b[0m\n\u001b[0m",
      "\u001b[1;31mAttributeError\u001b[0m: module 'dataproject' has no attribute 'Complete'"
     ]
    }
   ],
   "source": [
    "dp.Complete"
   ]
  },
  {
   "cell_type": "markdown",
   "metadata": {},
   "source": [
    "Calling on the function 'Graph()' in dp.py on each variable in the table 'Complete' to creat four graphs.  "
   ]
  },
  {
   "cell_type": "code",
   "execution_count": 32,
   "metadata": {},
   "outputs": [
    {
     "output_type": "error",
     "ename": "AttributeError",
     "evalue": "module 'dataproject' has no attribute 'Graph'",
     "traceback": [
      "\u001b[1;31m---------------------------------------------------------------------------\u001b[0m",
      "\u001b[1;31mAttributeError\u001b[0m                            Traceback (most recent call last)",
      "\u001b[1;32m<ipython-input-32-496516fcc722>\u001b[0m in \u001b[0;36m<module>\u001b[1;34m\u001b[0m\n\u001b[1;32m----> 1\u001b[1;33m \u001b[0mdp\u001b[0m\u001b[1;33m.\u001b[0m\u001b[0mGraph\u001b[0m\u001b[1;33m(\u001b[0m\u001b[1;34m'Currently working members'\u001b[0m\u001b[1;33m)\u001b[0m\u001b[1;33m\u001b[0m\u001b[1;33m\u001b[0m\u001b[0m\n\u001b[0m\u001b[0;32m      2\u001b[0m \u001b[0mdp\u001b[0m\u001b[1;33m.\u001b[0m\u001b[0mGraph\u001b[0m\u001b[1;33m(\u001b[0m\u001b[1;34m'Currently retired members'\u001b[0m\u001b[1;33m)\u001b[0m\u001b[1;33m\u001b[0m\u001b[1;33m\u001b[0m\u001b[0m\n\u001b[0;32m      3\u001b[0m \u001b[0mdp\u001b[0m\u001b[1;33m.\u001b[0m\u001b[0mGraph\u001b[0m\u001b[1;33m(\u001b[0m\u001b[1;34m'Gap in pension sum'\u001b[0m\u001b[1;33m)\u001b[0m\u001b[1;33m\u001b[0m\u001b[1;33m\u001b[0m\u001b[0m\n\u001b[0;32m      4\u001b[0m \u001b[0mdp\u001b[0m\u001b[1;33m.\u001b[0m\u001b[0mGraph\u001b[0m\u001b[1;33m(\u001b[0m\u001b[1;34m'Difference in pension sum (Pct)'\u001b[0m\u001b[1;33m)\u001b[0m\u001b[1;33m\u001b[0m\u001b[1;33m\u001b[0m\u001b[0m\n",
      "\u001b[1;31mAttributeError\u001b[0m: module 'dataproject' has no attribute 'Graph'"
     ]
    }
   ],
   "source": [
    "dp.Graph('Currently working members')\n",
    "dp.Graph('Currently retired members')\n",
    "dp.Graph('Gap in pension sum')\n",
    "dp.Graph('Difference in pension sum (Pct)')"
   ]
  },
  {
   "cell_type": "markdown",
   "metadata": {},
   "source": [
    "It can be seen that the pension funds for currently working, is falling throughout the time series.\n",
    "While the pension form for currently retired is falling in the years 2000 to 2002. This can be seen as an effect of the IT crises which lead to a fall in the stock market, and thereby reducing the capital of the pension funds. The pension funds for currently retired increases over the years for 2002 to 2006, and falls in the years 2007 and 2008, probably due the financial crises in 2008. After the period the pension funds for currently retired increases up to 2010, and hereafter it falls until 2013, where after it starts increasing again. \n",
    "It is seen that the gap between pension funds for currently working, and currently changed since, as the total corporate pensions funds in 2005 and forward changed to be made of a greater percentage of retired pensions owners. Which contrasts with the years 2000 to 2005, where pension funds for currently working consisted to a larger percentage of the total corporate pension funds.  \n"
   ]
  },
  {
   "cell_type": "markdown",
   "metadata": {},
   "source": [
    "# Conclusion"
   ]
  },
  {
   "cell_type": "markdown",
   "metadata": {},
   "source": [
    "Using datacleaning methods we have reduce a large and complex dataset to a specified table which only contains the most important variables and values. We have also created illustrative graphs of each variable from our final dataset. All in all we have managed to use python code to retrieve and reduce data and showing different variables in graphs to be able to analyse and give an economical intepretation of corporate pension funds for currently working and retired. "
   ]
  }
 ],
 "metadata": {
  "kernelspec": {
   "display_name": "Python 3.7.4 64-bit ('base': conda)",
   "language": "python",
   "name": "python37464bitbaseconda41682e1fe7ee4c88b0d504ae5e0de335"
  },
  "language_info": {
   "codemirror_mode": {
    "name": "ipython",
    "version": 3
   },
   "file_extension": ".py",
   "mimetype": "text/x-python",
   "name": "python",
   "nbconvert_exporter": "python",
   "pygments_lexer": "ipython3",
   "version": "3.7.4-final"
  },
  "toc-autonumbering": true
 },
 "nbformat": 4,
 "nbformat_minor": 4
}