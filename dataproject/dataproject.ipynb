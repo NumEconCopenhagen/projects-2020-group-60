{
 "cells": [
  {
   "cell_type": "markdown",
   "metadata": {},
   "source": [
    "# YOUR PROJECT TITLE"
   ],
   "execution_count": null,
   "outputs": []
  },
  {
   "cell_type": "markdown",
   "metadata": {},
   "source": [
    "> **Note the following:** \n",
    "> 1. This is *not* meant to be an example of an actual **data analysis project**, just an example of how to structure such a project.\n",
    "> 1. Remember the general advice on structuring and commenting your code from [lecture 5](https://numeconcopenhagen.netlify.com/lectures/Workflow_and_debugging).\n",
    "> 1. Remember this [guide](https://www.markdownguide.org/basic-syntax/) on markdown and (a bit of) latex.\n",
    "> 1. Turn on automatic numbering by clicking on the small icon on top of the table of contents in the left sidebar.\n",
    "> 1. The `dataproject.py` file includes a function which will be used multiple times in this notebook."
   ],
   "execution_count": null,
   "outputs": []
  },
  {
   "cell_type": "markdown",
   "metadata": {},
   "source": [
    "Imports and set magics:"
   ],
   "execution_count": null,
   "outputs": []
  },
  {
   "cell_type": "code",
   "execution_count": 39,
   "metadata": {},
   "outputs": [
    {
     "output_type": "execute_result",
     "data": {
      "text/plain": "                              Type  \\\nYear                                 \n2000       Corporate pension funds   \n2000  Intersectoral pension funds    \n2001       Corporate pension funds   \n2001  Intersectoral pension funds    \n2002       Corporate pension funds   \n2002  Intersectoral pension funds    \n2003       Corporate pension funds   \n2003  Intersectoral pension funds    \n2004       Corporate pension funds   \n2004  Intersectoral pension funds    \n2005       Corporate pension funds   \n2005  Intersectoral pension funds    \n2006       Corporate pension funds   \n2006  Intersectoral pension funds    \n2007       Corporate pension funds   \n2007  Intersectoral pension funds    \n2008       Corporate pension funds   \n2008  Intersectoral pension funds    \n2009       Corporate pension funds   \n2009  Intersectoral pension funds    \n2010       Corporate pension funds   \n2010  Intersectoral pension funds    \n2011       Corporate pension funds   \n2011  Intersectoral pension funds    \n2012       Corporate pension funds   \n2012  Intersectoral pension funds    \n2013       Corporate pension funds   \n2013  Intersectoral pension funds    \n2014       Corporate pension funds   \n2014  Intersectoral pension funds    \n2015       Corporate pension funds   \n2015  Intersectoral pension funds    \n2016       Corporate pension funds   \n2016  Intersectoral pension funds    \n\n      Average pension funds for currently working  \\\nYear                                                \n2000                                        11898   \n2000                                       563021   \n2001                                        11404   \n2001                                       630306   \n2002                                         9830   \n2002                                       651860   \n2003                                         9912   \n2003                                       662770   \n2004                                         8624   \n2004                                       680956   \n2005                                         8172   \n2005                                       554752   \n2006                                         7760   \n2006                                       575017   \n2007                                         7356   \n2007                                       576598   \n2008                                         6794   \n2008                                       590181   \n2009                                         6441   \n2009                                       572742   \n2010                                         6409   \n2010                                       586760   \n2011                                         5824   \n2011                                       598891   \n2012                                         4312   \n2012                                       578905   \n2013                                         3626   \n2013                                       600039   \n2014                                         3293   \n2014                                       611702   \n2015                                         2988   \n2015                                       637724   \n2016                                         2748   \n2016                                       721992   \n\n      Average pension funds for currently retired  Gap in pension sum  \\\nYear                                                                    \n2000                                         7749              4149.0   \n2000                                        31614            531407.0   \n2001                                         7292              4112.0   \n2001                                        49017            581289.0   \n2002                                         6950              2880.0   \n2002                                        53920            597940.0   \n2003                                         6965              2947.0   \n2003                                        57071            605699.0   \n2004                                         7543              1081.0   \n2004                                        63988            616968.0   \n2005                                         7785               387.0   \n2005                                        66338            488414.0   \n2006                                         7979              -219.0   \n2006                                        73534            501483.0   \n2007                                         7976              -620.0   \n2007                                        79588            497010.0   \n2008                                         7905             -1111.0   \n2008                                        86471            503710.0   \n2009                                         8177             -1736.0   \n2009                                        90420            482322.0   \n2010                                         8510             -2101.0   \n2010                                        96071            490689.0   \n2011                                         8162             -2338.0   \n2011                                       102499            496392.0   \n2012                                         8114             -3802.0   \n2012                                       105487            473418.0   \n2013                                         7128             -3502.0   \n2013                                       116882            483157.0   \n2014                                         7832             -4539.0   \n2014                                       123644            488058.0   \n2015                                         7807             -4819.0   \n2015                                       130283            507441.0   \n2016                                         7770             -5022.0   \n2016                                       131610            590382.0   \n\n      Difference in pension sum (Pct)  \nYear                                   \n2000                        53.542393  \n2000                      1680.923009  \n2001                        56.390565  \n2001                      1185.892649  \n2002                        41.438849  \n2002                      1108.939169  \n2003                        42.311558  \n2003                      1061.307845  \n2004                        14.331168  \n2004                       964.193286  \n2005                         4.971098  \n2005                       736.250716  \n2006                        -2.744705  \n2006                       681.974325  \n2007                        -7.773320  \n2007                       624.478565  \n2008                       -14.054396  \n2008                       582.518995  \n2009                       -21.230280  \n2009                       533.424021  \n2010                       -24.688602  \n2010                       510.756628  \n2011                       -28.644940  \n2011                       484.289603  \n2012                       -46.857284  \n2012                       448.792742  \n2013                       -49.130191  \n2013                       413.371606  \n2014                       -57.954545  \n2014                       394.728414  \n2015                       -61.726656  \n2015                       389.491338  \n2016                       -64.633205  \n2016                       448.584454  ",
      "text/html": "<div>\n<style scoped>\n    .dataframe tbody tr th:only-of-type {\n        vertical-align: middle;\n    }\n\n    .dataframe tbody tr th {\n        vertical-align: top;\n    }\n\n    .dataframe thead th {\n        text-align: right;\n    }\n</style>\n<table border=\"1\" class=\"dataframe\">\n  <thead>\n    <tr style=\"text-align: right;\">\n      <th></th>\n      <th>Type</th>\n      <th>Average pension funds for currently working</th>\n      <th>Average pension funds for currently retired</th>\n      <th>Gap in pension sum</th>\n      <th>Difference in pension sum (Pct)</th>\n    </tr>\n    <tr>\n      <th>Year</th>\n      <th></th>\n      <th></th>\n      <th></th>\n      <th></th>\n      <th></th>\n    </tr>\n  </thead>\n  <tbody>\n    <tr>\n      <td>2000</td>\n      <td>Corporate pension funds</td>\n      <td>11898</td>\n      <td>7749</td>\n      <td>4149.0</td>\n      <td>53.542393</td>\n    </tr>\n    <tr>\n      <td>2000</td>\n      <td>Intersectoral pension funds</td>\n      <td>563021</td>\n      <td>31614</td>\n      <td>531407.0</td>\n      <td>1680.923009</td>\n    </tr>\n    <tr>\n      <td>2001</td>\n      <td>Corporate pension funds</td>\n      <td>11404</td>\n      <td>7292</td>\n      <td>4112.0</td>\n      <td>56.390565</td>\n    </tr>\n    <tr>\n      <td>2001</td>\n      <td>Intersectoral pension funds</td>\n      <td>630306</td>\n      <td>49017</td>\n      <td>581289.0</td>\n      <td>1185.892649</td>\n    </tr>\n    <tr>\n      <td>2002</td>\n      <td>Corporate pension funds</td>\n      <td>9830</td>\n      <td>6950</td>\n      <td>2880.0</td>\n      <td>41.438849</td>\n    </tr>\n    <tr>\n      <td>2002</td>\n      <td>Intersectoral pension funds</td>\n      <td>651860</td>\n      <td>53920</td>\n      <td>597940.0</td>\n      <td>1108.939169</td>\n    </tr>\n    <tr>\n      <td>2003</td>\n      <td>Corporate pension funds</td>\n      <td>9912</td>\n      <td>6965</td>\n      <td>2947.0</td>\n      <td>42.311558</td>\n    </tr>\n    <tr>\n      <td>2003</td>\n      <td>Intersectoral pension funds</td>\n      <td>662770</td>\n      <td>57071</td>\n      <td>605699.0</td>\n      <td>1061.307845</td>\n    </tr>\n    <tr>\n      <td>2004</td>\n      <td>Corporate pension funds</td>\n      <td>8624</td>\n      <td>7543</td>\n      <td>1081.0</td>\n      <td>14.331168</td>\n    </tr>\n    <tr>\n      <td>2004</td>\n      <td>Intersectoral pension funds</td>\n      <td>680956</td>\n      <td>63988</td>\n      <td>616968.0</td>\n      <td>964.193286</td>\n    </tr>\n    <tr>\n      <td>2005</td>\n      <td>Corporate pension funds</td>\n      <td>8172</td>\n      <td>7785</td>\n      <td>387.0</td>\n      <td>4.971098</td>\n    </tr>\n    <tr>\n      <td>2005</td>\n      <td>Intersectoral pension funds</td>\n      <td>554752</td>\n      <td>66338</td>\n      <td>488414.0</td>\n      <td>736.250716</td>\n    </tr>\n    <tr>\n      <td>2006</td>\n      <td>Corporate pension funds</td>\n      <td>7760</td>\n      <td>7979</td>\n      <td>-219.0</td>\n      <td>-2.744705</td>\n    </tr>\n    <tr>\n      <td>2006</td>\n      <td>Intersectoral pension funds</td>\n      <td>575017</td>\n      <td>73534</td>\n      <td>501483.0</td>\n      <td>681.974325</td>\n    </tr>\n    <tr>\n      <td>2007</td>\n      <td>Corporate pension funds</td>\n      <td>7356</td>\n      <td>7976</td>\n      <td>-620.0</td>\n      <td>-7.773320</td>\n    </tr>\n    <tr>\n      <td>2007</td>\n      <td>Intersectoral pension funds</td>\n      <td>576598</td>\n      <td>79588</td>\n      <td>497010.0</td>\n      <td>624.478565</td>\n    </tr>\n    <tr>\n      <td>2008</td>\n      <td>Corporate pension funds</td>\n      <td>6794</td>\n      <td>7905</td>\n      <td>-1111.0</td>\n      <td>-14.054396</td>\n    </tr>\n    <tr>\n      <td>2008</td>\n      <td>Intersectoral pension funds</td>\n      <td>590181</td>\n      <td>86471</td>\n      <td>503710.0</td>\n      <td>582.518995</td>\n    </tr>\n    <tr>\n      <td>2009</td>\n      <td>Corporate pension funds</td>\n      <td>6441</td>\n      <td>8177</td>\n      <td>-1736.0</td>\n      <td>-21.230280</td>\n    </tr>\n    <tr>\n      <td>2009</td>\n      <td>Intersectoral pension funds</td>\n      <td>572742</td>\n      <td>90420</td>\n      <td>482322.0</td>\n      <td>533.424021</td>\n    </tr>\n    <tr>\n      <td>2010</td>\n      <td>Corporate pension funds</td>\n      <td>6409</td>\n      <td>8510</td>\n      <td>-2101.0</td>\n      <td>-24.688602</td>\n    </tr>\n    <tr>\n      <td>2010</td>\n      <td>Intersectoral pension funds</td>\n      <td>586760</td>\n      <td>96071</td>\n      <td>490689.0</td>\n      <td>510.756628</td>\n    </tr>\n    <tr>\n      <td>2011</td>\n      <td>Corporate pension funds</td>\n      <td>5824</td>\n      <td>8162</td>\n      <td>-2338.0</td>\n      <td>-28.644940</td>\n    </tr>\n    <tr>\n      <td>2011</td>\n      <td>Intersectoral pension funds</td>\n      <td>598891</td>\n      <td>102499</td>\n      <td>496392.0</td>\n      <td>484.289603</td>\n    </tr>\n    <tr>\n      <td>2012</td>\n      <td>Corporate pension funds</td>\n      <td>4312</td>\n      <td>8114</td>\n      <td>-3802.0</td>\n      <td>-46.857284</td>\n    </tr>\n    <tr>\n      <td>2012</td>\n      <td>Intersectoral pension funds</td>\n      <td>578905</td>\n      <td>105487</td>\n      <td>473418.0</td>\n      <td>448.792742</td>\n    </tr>\n    <tr>\n      <td>2013</td>\n      <td>Corporate pension funds</td>\n      <td>3626</td>\n      <td>7128</td>\n      <td>-3502.0</td>\n      <td>-49.130191</td>\n    </tr>\n    <tr>\n      <td>2013</td>\n      <td>Intersectoral pension funds</td>\n      <td>600039</td>\n      <td>116882</td>\n      <td>483157.0</td>\n      <td>413.371606</td>\n    </tr>\n    <tr>\n      <td>2014</td>\n      <td>Corporate pension funds</td>\n      <td>3293</td>\n      <td>7832</td>\n      <td>-4539.0</td>\n      <td>-57.954545</td>\n    </tr>\n    <tr>\n      <td>2014</td>\n      <td>Intersectoral pension funds</td>\n      <td>611702</td>\n      <td>123644</td>\n      <td>488058.0</td>\n      <td>394.728414</td>\n    </tr>\n    <tr>\n      <td>2015</td>\n      <td>Corporate pension funds</td>\n      <td>2988</td>\n      <td>7807</td>\n      <td>-4819.0</td>\n      <td>-61.726656</td>\n    </tr>\n    <tr>\n      <td>2015</td>\n      <td>Intersectoral pension funds</td>\n      <td>637724</td>\n      <td>130283</td>\n      <td>507441.0</td>\n      <td>389.491338</td>\n    </tr>\n    <tr>\n      <td>2016</td>\n      <td>Corporate pension funds</td>\n      <td>2748</td>\n      <td>7770</td>\n      <td>-5022.0</td>\n      <td>-64.633205</td>\n    </tr>\n    <tr>\n      <td>2016</td>\n      <td>Intersectoral pension funds</td>\n      <td>721992</td>\n      <td>131610</td>\n      <td>590382.0</td>\n      <td>448.584454</td>\n    </tr>\n  </tbody>\n</table>\n</div>"
     },
     "metadata": {},
     "execution_count": 39
    }
   ],
   "source": [
    "#Installing programs in Anaconda Promt. \n",
    "#(1): pip install pandas-datareader\n",
    "#(2): pip install git+https://github.com/elben10/pydst\n",
    "\n",
    "#Importing used packages.\n",
    "import numpy as np\n",
    "import pandas as pd\n",
    "import pandas_datareader # install in (1).\n",
    "import pydst # install in (2).\n",
    "import matplotlib.pyplot as plt\n",
    "\n",
    "#DATACLEANING#\n",
    "\n",
    "#We use pydst to use an API to Denmark's statistics\n",
    "Dst = pydst.Dst(lang='en')\n",
    "Dst.get_subjects() #Used to see list of different datasets. \n",
    "tables = Dst.get_tables(subjects=['16']) #We choose the main dataset for \"Money and credit markets\".\n",
    "tables[tables.id == 'MPK49'] #We choose the subdataset for \"Pension funds\".\n",
    "Vars = Dst.get_variables(table_id='MPK49')\n",
    "\n",
    "#To find the variables we need, we inspect the table that we have imported:\n",
    "Vars.values\n",
    "\n",
    "\n",
    "\n",
    "#After picking out values, we can get our data:\n",
    "Data = Dst.get_data(table_id = 'MPK49', variables={'AKTPAS':['5180','5190','5200'], 'TID':['2000','2001','2002','2003','2004','2005','2006','2007','2008','2009','2010','2011','2012','2013','2014','2015','2016',], 'TYPE':['*']})\n",
    "Data.rename(columns={'AKTPAS':'Assets & Liabilities','TID':'Year','TYPE':'Type','INDHOLD':'Amount'},inplace=True)\n",
    "\n",
    "Index = Data.set_index('Year')\n",
    "Sort = Index[['Type','Assets & Liabilities','Amount']]\n",
    "\n",
    "Working = Sort[Sort['Assets & Liabilities']=='Number of working members'].sort_values(['Year','Type']).rename(columns={'Assets & Liabilities':'Currently working', 'Amount':'Average pension funds for currently working'})\n",
    "Retired = Sort[Sort['Assets & Liabilities']=='Number of retired members'].sort_values(['Year','Type']).rename(columns={'Assets & Liabilities':'Currently retired', 'Amount':'Average pension funds for currently retired'})\n",
    "\n",
    "\n",
    "Retired_notype = Retired[['Currently retired', 'Average pension funds for currently retired']]\n",
    "\n",
    "#Concatenate the two tables:\n",
    "Concatenated_table = pd.concat([Working, Retired_notype], axis=1)\n",
    "Concatenated_table\n",
    "\n",
    "\n",
    "#Removing the gender nicer look.\n",
    "Final_table = Concatenated_table[['Type','Average pension funds for currently working','Average pension funds for currently retired']]\n",
    "Final_table = Final_table.dropna(axis=0)\n",
    "Final_table\n",
    "\n",
    "Final_table['Gap in pension sum'] = Final_table['Average pension funds for currently working'].astype(float) - Final_table['Average pension funds for currently retired'].astype(float)\n",
    "Final_table['Difference in pension sum (Pct)'] = ((Final_table['Average pension funds for currently working'].astype(float)/Final_table['Average pension funds for currently retired'].astype(float))-1)*100\n",
    "Final_table\n",
    ""
   ]
  },
  {
   "cell_type": "code",
   "execution_count": null,
   "metadata": {},
   "outputs": [],
   "source": [
    "#Import the neccesary packages\n",
    "import numpy as np\n",
    "import pandas as pd\n",
    "import pydst\n",
    "import matplotlib.pyplot as plt\n",
    "\n",
    "#DATACLEANING#\n",
    "\n",
    "#We use pydst to use an API to Denmark's statistics\n",
    "Dst = pydst.Dst(lang='en')\n",
    "Dst.get_data(table_id='INDKP101')\n",
    "Vars = Dst.get_variables(table_id='INDKP101')\n",
    "\n",
    "#To find the variables we need, we inspect the table that we have imported:\n",
    "Vars.values\n",
    "\n",
    "#After picking out values, we can get our data:\n",
    "Everything = Dst.get_data(table_id = 'INDKP101', variables={'OMRÅDE':['000','01','02','03','04','05','06','07','08','09','10','11'], 'KOEN':['M','K'], 'TID':['*'], 'ENHED':['116'], 'INDKOMSTTYPE':['100']}).rename(columns={'OMRÅDE':'Municipality'})\n",
    "\n",
    "#Changing the index to Municipality:\n",
    "New_index = Everything.set_index('Municipality')\n",
    "\n",
    "#Picking out the neccesary variables:\n",
    "Sortet = New_index[['TID','KOEN','INDHOLD']].rename(columns={'KOEN':'Gender', 'TID':'Year', 'INDHOLD':'disposable income'})\n",
    "\n",
    "#Making a table for each gender:\n",
    "Men = Sortet[Sortet['Gender']=='Men'].sort_values(['Municipality','Year']).rename(columns={'disposable income':'disposable_income_men'})\n",
    "\n",
    "Women = Sortet[Sortet['Gender']=='Women'].sort_values(['Municipality', 'Year']).rename(columns={'disposable income':'disposable_income_women'})\n",
    "\n",
    "Women_without_year = Women[['Gender', 'disposable_income_women']]\n",
    "\n",
    "#Concatenate the two tables:\n",
    "Concatenated_table = pd.concat([Men, Women_without_year], axis=1)\n",
    "\n",
    "Concatenated_table\n",
    "\n",
    "\n",
    "\n",
    "\n",
    "#Removing the gender nicer look:\n",
    "Final_table = Concatenated_table[['Year','disposable_income_men','disposable_income_women']]\n",
    "\n",
    "#DATACLEANING COMPLETE#\n",
    "\n",
    "\n",
    "\n",
    "#APPLYING METHODS#\n",
    "\n",
    "#Creates a function with provides the difference between the genders in %:\n",
    "def f(x):\n",
    "    \"\"\"Gives the procentual difference between the genders\"\"\"\n",
    "    return round((x['disposable_income_men']/x['disposable_income_women']-1)*100, 2)\n",
    "\n",
    "#Applying the function to the end of the table:\n",
    "Final_table['Difference in %']=Final_table.apply(f, axis=1)\n",
    "Final_table\n",
    "\n",
    "\n"
   ]
  },
  {
   "cell_type": "code",
   "execution_count": null,
   "metadata": {},
   "outputs": [],
   "source": [
    "%load_ext autoreload\n",
    "%autoreload 2\n",
    "# You can load your python module as this:\n",
    "import dataproject as dp\n",
    "from ipywidgets import interact, interactive, fixed, interact_manual\n",
    "import ipywidgets as widgets\n",
    "\n",
    ""
   ]
  },
  {
   "cell_type": "markdown",
   "metadata": {
    "toc-hr-collapsed": true
   },
   "source": [
    "# Read and clean data"
   ],
   "execution_count": null,
   "outputs": []
  },
  {
   "cell_type": "markdown",
   "metadata": {},
   "source": [
    "## Employment data"
   ],
   "execution_count": null,
   "outputs": []
  },
  {
   "cell_type": "markdown",
   "metadata": {},
   "source": [
    "**Read the employment data** in ``RAS200.xlsx`` and **clean it** removing and renaming columns:"
   ],
   "execution_count": null,
   "outputs": []
  },
  {
   "cell_type": "code",
   "execution_count": null,
   "metadata": {},
   "outputs": [],
   "source": [
    "# a. load\n",
    "empl = pd.read_excel('RAS200.xlsx', skiprows=2)\n",
    "\n",
    "# b. drop columns\n",
    "drop_these = ['Unnamed: 0', 'Unnamed: 1', 'Unnamed: 2', 'Unnamed: 3']\n",
    "empl.drop(drop_these, axis=1, inplace=True)\n",
    "\n",
    "# c. rename columns\n",
    "empl.rename(columns = {'Unnamed: 4':'municipality'}, inplace=True)"
   ]
  },
  {
   "cell_type": "markdown",
   "metadata": {},
   "source": [
    "The dataset now looks like this:"
   ],
   "execution_count": null,
   "outputs": []
  },
  {
   "cell_type": "code",
   "execution_count": null,
   "metadata": {},
   "outputs": [],
   "source": [
    "empl.head()"
   ]
  },
  {
   "cell_type": "markdown",
   "metadata": {},
   "source": [
    "**Remove all rows which are not municipalities**:"
   ],
   "execution_count": null,
   "outputs": []
  },
  {
   "cell_type": "code",
   "execution_count": null,
   "metadata": {},
   "outputs": [],
   "source": [
    "empl = dataproject.only_keep_municipalities(empl)\n",
    "empl.head()"
   ]
  },
  {
   "cell_type": "markdown",
   "metadata": {},
   "source": [
    "**Convert the dataset to long format**:"
   ],
   "execution_count": null,
   "outputs": []
  },
  {
   "cell_type": "code",
   "execution_count": null,
   "metadata": {},
   "outputs": [],
   "source": [
    "# a. rename year columns\n",
    "mydict = {str(i):f'employment{i}' for i in range(2008,2018)}\n",
    "empl.rename(columns = mydict, inplace=True)\n",
    "\n",
    "# b. convert to long\n",
    "empl_long = pd.wide_to_long(empl, stubnames='employment', i='municipality', j='year').reset_index()\n",
    "\n",
    "# c. show\n",
    "empl_long.head()"
   ]
  },
  {
   "cell_type": "markdown",
   "metadata": {},
   "source": [
    "## Income data"
   ],
   "execution_count": null,
   "outputs": []
  },
  {
   "cell_type": "markdown",
   "metadata": {},
   "source": [
    "**Read the income data** in ``INDKP101.xlsx`` and **clean it**:"
   ],
   "execution_count": null,
   "outputs": []
  },
  {
   "cell_type": "code",
   "execution_count": null,
   "metadata": {},
   "outputs": [],
   "source": [
    "# a. load\n",
    "inc = pd.read_excel('INDKP101.xlsx', skiprows=2)\n",
    "\n",
    "# b. drop and rename columns\n",
    "inc.drop([f'Unnamed: {i}' for i in range(3)], axis=1, inplace=True)\n",
    "inc.rename(columns = {'Unnamed: 3':'municipality'}, inplace=True)\n",
    "\n",
    "# c. drop rows with missing\n",
    "inc.dropna(inplace=True)\n",
    "\n",
    "# d. remove non-municipalities\n",
    "inc = dataproject.only_keep_municipalities(inc)\n",
    "\n",
    "# e. convert to long\n",
    "inc.rename(columns = {str(i):f'income{i}' for i in range(1986,2018)}, inplace=True)\n",
    "inc_long = pd.wide_to_long(inc, stubnames='income', i='municipality', j='year').reset_index()\n",
    "\n",
    "# f. show\n",
    "inc_long.head(5)"
   ]
  },
  {
   "cell_type": "markdown",
   "metadata": {},
   "source": [
    "> **Note:** The function ``dataproject.only_keep_municipalities()`` is used on both the employment and the income datasets."
   ],
   "execution_count": null,
   "outputs": []
  },
  {
   "cell_type": "markdown",
   "metadata": {},
   "source": [
    "## Explore data set"
   ],
   "execution_count": null,
   "outputs": []
  },
  {
   "cell_type": "markdown",
   "metadata": {},
   "source": [
    "In order to be able to **explore the raw data**, we here provide an **interactive plot** to show, respectively, the employment and income level in each municipality"
   ],
   "execution_count": null,
   "outputs": []
  },
  {
   "cell_type": "markdown",
   "metadata": {},
   "source": [
    "The **static plot** is:"
   ],
   "execution_count": null,
   "outputs": []
  },
  {
   "cell_type": "code",
   "execution_count": null,
   "metadata": {},
   "outputs": [],
   "source": [
    "def plot_empl_inc(empl,inc,dataset,municipality): \n",
    "    \n",
    "    if dataset == 'Employment':\n",
    "        df = empl\n",
    "        y = 'employment'\n",
    "    else:\n",
    "        df = inc\n",
    "        y = 'income'\n",
    "    \n",
    "    I = df['municipality'] == municipality\n",
    "    ax = df.loc[I,:].plot(x='year', y=y, style='-o')"
   ]
  },
  {
   "cell_type": "markdown",
   "metadata": {},
   "source": [
    "The **interactive plot** is:"
   ],
   "execution_count": null,
   "outputs": []
  },
  {
   "cell_type": "code",
   "execution_count": null,
   "metadata": {},
   "outputs": [],
   "source": [
    "widgets.interact(plot_empl_inc, \n",
    "    \n",
    "    empl = widgets.fixed(empl_long),\n",
    "    inc = widgets.fixed(inc_long),\n",
    "    dataset = widgets.Dropdown(description='Dataset', \n",
    "                               options=['Employment','Income']),\n",
    "    municipality = widgets.Dropdown(description='Municipality', \n",
    "                                    options=empl_long.municipality.unique())\n",
    "                 \n",
    "); "
   ]
  },
  {
   "cell_type": "markdown",
   "metadata": {},
   "source": [
    "ADD SOMETHING HERE IF THE READER SHOULD KNOW THAT E.G. SOME MUNICIPALITY IS SPECIAL."
   ],
   "execution_count": null,
   "outputs": []
  },
  {
   "cell_type": "markdown",
   "metadata": {},
   "source": [
    "# Merge data sets"
   ],
   "execution_count": null,
   "outputs": []
  },
  {
   "cell_type": "markdown",
   "metadata": {},
   "source": [
    "We now create a data set with **municpalities which are in both of our data sets**. We can illustrate this **merge** as:"
   ],
   "execution_count": null,
   "outputs": []
  },
  {
   "cell_type": "code",
   "execution_count": null,
   "metadata": {},
   "outputs": [],
   "source": [
    "plt.figure(figsize=(15,7))\n",
    "v = venn2(subsets = (4, 4, 10), set_labels = ('inc', 'empl'))\n",
    "v.get_label_by_id('100').set_text('dropped')\n",
    "v.get_label_by_id('010').set_text('dropped' )\n",
    "v.get_label_by_id('110').set_text('included')\n",
    "plt.show()"
   ]
  },
  {
   "cell_type": "code",
   "execution_count": null,
   "metadata": {},
   "outputs": [],
   "source": [
    "merged = pd.merge(empl_long, inc_long, how='inner',on=['municipality','year'])\n",
    "\n",
    "print(f'Number of municipalities = {len(merged.municipality.unique())}')\n",
    "print(f'Number of years          = {len(merged.year.unique())}')"
   ]
  },
  {
   "cell_type": "markdown",
   "metadata": {},
   "source": [
    "# Analysis"
   ],
   "execution_count": null,
   "outputs": []
  },
  {
   "cell_type": "markdown",
   "metadata": {},
   "source": [
    "To get a quick overview of the data, we show some **summary statistics by year**:"
   ],
   "execution_count": null,
   "outputs": []
  },
  {
   "cell_type": "code",
   "execution_count": null,
   "metadata": {},
   "outputs": [],
   "source": [
    "merged.groupby('year').agg(['mean','std']).round(2)"
   ]
  },
  {
   "cell_type": "markdown",
   "metadata": {},
   "source": [
    "ADD FURTHER ANALYSIS. EXPLAIN THE CODE BRIEFLY AND SUMMARIZE THE RESULTS."
   ],
   "execution_count": null,
   "outputs": []
  },
  {
   "cell_type": "markdown",
   "metadata": {},
   "source": [
    "# Conclusion"
   ],
   "execution_count": null,
   "outputs": []
  },
  {
   "cell_type": "markdown",
   "metadata": {},
   "source": [
    "ADD CONCISE CONLUSION."
   ],
   "execution_count": null,
   "outputs": []
  }
 ],
 "metadata": {
  "kernelspec": {
   "display_name": "Python 3.7.4 64-bit ('base': conda)",
   "language": "python",
   "name": "python37464bitbaseconda41682e1fe7ee4c88b0d504ae5e0de335"
  },
  "language_info": {
   "codemirror_mode": {
    "name": "ipython",
    "version": 3
   },
   "file_extension": ".py",
   "mimetype": "text/x-python",
   "name": "python",
   "nbconvert_exporter": "python",
   "pygments_lexer": "ipython3",
   "version": "3.7.4-final"
  },
  "toc-autonumbering": true
 },
 "nbformat": 4,
 "nbformat_minor": 4
}