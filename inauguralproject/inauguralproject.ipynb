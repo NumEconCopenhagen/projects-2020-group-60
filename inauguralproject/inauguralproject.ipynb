{
 "cells": [
  {
   "cell_type": "markdown",
   "metadata": {},
   "source": [
    "# Inaugural Project"
   ]
  },
  {
   "cell_type": "markdown",
   "metadata": {},
   "source": [
    "> **Note the following:** \n",
    "> 1. This is an example of how to structure your **inaugural project**.\n",
    "> 1. Remember the general advice on structuring and commenting your code from [lecture 5](https://numeconcopenhagen.netlify.com/lectures/Workflow_and_debugging).\n",
    "> 1. Remember this [guide](https://www.markdownguide.org/basic-syntax/) on markdown and (a bit of) latex.\n",
    "> 1. Turn on automatic numbering by clicking on the small icon on top of the table of contents in the left sidebar.\n",
    "> 1. The `inauguralproject.py` file includes a function which can be used multiple times in this notebook."
   ]
  },
  {
   "cell_type": "markdown",
   "metadata": {},
   "source": [
    "The following packages have been used to run the code for this assignment. "
   ]
  },
  {
   "cell_type": "code",
   "execution_count": null,
   "metadata": {},
   "outputs": [],
   "source": [
    "import numpy as np\n",
    "from scipy import optimize\n",
    "import matplotlib.pyplot as plt"
   ]
  },
  {
   "cell_type": "markdown",
   "metadata": {
    "toc-hr-collapsed": true
   },
   "source": [
    "# Question 1"
   ]
  },
  {
   "cell_type": "markdown",
   "metadata": {},
   "source": [
    "We begin by defining all known parameters and writing up functions for every given equations in the assignment. Afterwards, we use optimize from the scipy-package in a function that solves that maximizes utility given consumption and minimizing labor supply."
   ]
  },
  {
   "cell_type": "code",
   "execution_count": null,
   "metadata": {},
   "outputs": [],
   "source": [
    "#Defining parameters.\n",
    "m = 1 #cash-on-hand.\n",
    "v = 10 #scales the disutility of labor.\n",
    "eps= 0.3 #elasticity of labor supply\n",
    "tau0 = 0.4 #standard labor income tax.\n",
    "tau1 = 0.1 #top bracket labor income tax.\n",
    "kappa = 0.4 #the cut-off for the top labor income bracket.\n",
    "w = 0.5 #wage rate set with the initial value 0.5.\n",
    "\n",
    "#Defining utility as a function of labour supplu and consumption seen in eq(1).\n",
    "def u_func(c,l,eps,v):\n",
    "    return np.log(c)-v*(l**(1+1/eps)/(1+1/eps))\n",
    "\n",
    "#Defining function for consumption, where c*=x because of monoticity seen from eq(2).\n",
    "def c_func(l,w,m,tau0,tau1,kappa):\n",
    "    c_def = m+w*l-(tau0*w*l+tau1*np.max([w*l-kappa,0]))\n",
    "    return c_def\n",
    "\n",
    "#Defining the utility constraint such that c=c_func.\n",
    "def u_con(l,w,eps,v,tau0,tau1,kappa):\n",
    "    c = c_func(l,w,m,tau0,tau1,kappa)\n",
    "    return -u_func(c,l,v,eps)\n",
    "\n",
    "#Defining a function for the solution of the utility maximization problem. \n",
    "def sol(w,eps,v,tau0,tau1,kappa,m):\n",
    "    l_sol=optimize.minimize_scalar(u_con, method = 'bounded',bounds = (0,1), args = (w,eps,v,tau0,tau1,kappa))\n",
    "    #Defining the optimal \n",
    "    l_ss = l_sol.x\n",
    "    c_ss = c_func(m,w,l_ss,tau0,tau1,kappa)\n",
    "    u_ss = u_func(l_ss,c_ss,eps,v)\n",
    "    return [l_ss,c_ss,u_ss]"
   ]
  },
  {
   "cell_type": "markdown",
   "metadata": {},
   "source": [
    "We have know created a function that will solve the utility maximization problem faced by consumers. "
   ]
  },
  {
   "cell_type": "markdown",
   "metadata": {},
   "source": [
    "# Question 2"
   ]
  },
  {
   "cell_type": "markdown",
   "metadata": {},
   "source": [
    "The assignment asks us to plot labor supply (l*) and consumption (c*) in steady state when we have 10.000 observations and the wage rate is given in a ratio from 0.5 to 1.5. We define vectors for wage rate, consumption and labor supply using numpy array and and use the previosly defined function (sol) that solves the maximization problem. "
   ]
  },
  {
   "cell_type": "code",
   "execution_count": 6,
   "metadata": {
    "scrolled": true
   },
   "outputs": [
    {
     "output_type": "error",
     "ename": "NameError",
     "evalue": "name 'np' is not defined",
     "traceback": [
      "\u001b[1;31m---------------------------------------------------------------------------\u001b[0m",
      "\u001b[1;31mNameError\u001b[0m                                 Traceback (most recent call last)",
      "\u001b[1;32m<ipython-input-6-8dc3e3fad17f>\u001b[0m in \u001b[0;36m<module>\u001b[1;34m\u001b[0m\n\u001b[0;32m      3\u001b[0m \u001b[1;33m\u001b[0m\u001b[0m\n\u001b[0;32m      4\u001b[0m \u001b[1;31m#Generate vectors for labour supply, consumption and wages.\u001b[0m\u001b[1;33m\u001b[0m\u001b[1;33m\u001b[0m\u001b[1;33m\u001b[0m\u001b[0m\n\u001b[1;32m----> 5\u001b[1;33m \u001b[0mw_vec\u001b[0m \u001b[1;33m=\u001b[0m \u001b[0mnp\u001b[0m\u001b[1;33m.\u001b[0m\u001b[0mlinspace\u001b[0m\u001b[1;33m(\u001b[0m\u001b[1;36m0.5\u001b[0m\u001b[1;33m,\u001b[0m\u001b[1;36m1.5\u001b[0m\u001b[1;33m,\u001b[0m\u001b[0mN\u001b[0m\u001b[1;33m)\u001b[0m \u001b[1;31m#this linespace() command return evenly spaced numbers over a specified interval.\u001b[0m\u001b[1;33m\u001b[0m\u001b[1;33m\u001b[0m\u001b[0m\n\u001b[0m\u001b[0;32m      6\u001b[0m \u001b[0ml_vec\u001b[0m \u001b[1;33m=\u001b[0m \u001b[0mnp\u001b[0m\u001b[1;33m.\u001b[0m\u001b[0mempty\u001b[0m\u001b[1;33m(\u001b[0m\u001b[0mN\u001b[0m\u001b[1;33m)\u001b[0m \u001b[1;31m#returns a new array of given (same N) shape and type, without initializing entries.\u001b[0m\u001b[1;33m\u001b[0m\u001b[1;33m\u001b[0m\u001b[0m\n\u001b[0;32m      7\u001b[0m \u001b[0mc_vec\u001b[0m \u001b[1;33m=\u001b[0m \u001b[0mnp\u001b[0m\u001b[1;33m.\u001b[0m\u001b[0mempty\u001b[0m\u001b[1;33m(\u001b[0m\u001b[0mN\u001b[0m\u001b[1;33m)\u001b[0m \u001b[1;31m#returns a new array of given (same N) shape and type, without initializing entries.\u001b[0m\u001b[1;33m\u001b[0m\u001b[1;33m\u001b[0m\u001b[0m\n",
      "\u001b[1;31mNameError\u001b[0m: name 'np' is not defined"
     ]
    }
   ],
   "source": [
    "#Set number of observations.\n",
    "N=10000\n",
    "\n",
    "#Generate vectors for labour supply, consumption and wages.\n",
    "w_vec = np.linspace(0.5,1.5,N) #this linespace() command return evenly spaced numbers over a specified interval.\n",
    "l_vec = np.empty(N) #returns a new array of given (same N) shape and type, without initializing entries.\n",
    "c_vec = np.empty(N) #returns a new array of given (same N) shape and type, without initializing entries.\n",
    "\n",
    "for i,w in enumerate(w_vec):\n",
    "    lc_bundle = sol(w,eps,v,tau0,tau1,kappa,m)\n",
    "    l_vec[i] = lc_bundle[0]\n",
    "    c_vec[i] = lc_bundle[1]\n",
    "\n",
    "#Defining the figure's.\n",
    "fig = plt.figure(figsize=(10,4))\n",
    "\n",
    "#Left-side plot.\n",
    "ax_left=fig.add_subplot(1,2,1)\n",
    "ax_left.plot(w_vec,l_vec,color='yellow')\n",
    "\n",
    "ax_left.set_title('Labor supply, $l^*$')\n",
    "ax_left.set_xlabel('$w$')\n",
    "ax_left.set_ylabel('$l^*$')\n",
    "ax_left.grid(True)\n",
    "\n",
    "#Right-side plot.\n",
    "ax_right = fig.add_subplot(1,2,2)\n",
    "ax_right.plot(w_vec,c_vec,color='blue')\n",
    "\n",
    "ax_right.set_title('Consumption, $c^*$')\n",
    "ax_right.set_xlabel('$w$')\n",
    "ax_right.set_ylabel('$c^*$')\n",
    "ax_right.grid(True)\n",
    "\n",
    "#Ploting figure. \n",
    "plt.show()"
   ]
  },
  {
   "cell_type": "markdown",
   "metadata": {},
   "source": [
    "It's clear that there is a positive correlation between wage rate and labor supply. This also applies for wage rate and consumption. It can also be seen that labor supply and consumption is within the set bounderies $l\\in[0,1]$ and $c\\in[0,x]$. "
   ]
  },
  {
   "cell_type": "markdown",
   "metadata": {},
   "source": [
    "# Question 3"
   ]
  },
  {
   "cell_type": "markdown",
   "metadata": {},
   "source": [
    "It is said that the wage rate is uniform $w\\in[0.5,1.5]$ and we still have 10.000 individuals in our economy. Thereto, we set a seed number so we can recall any randomly generated values. Using this information we create a vector for wage rate consisting of random values within the uniform distribution . Further, we also define a vector for labor supply where we in both cases use numpy's array command. Then we define the given function for total tax revenue."
   ]
  },
  {
   "cell_type": "code",
   "execution_count": null,
   "metadata": {},
   "outputs": [],
   "source": [
    "#Defining the uniform distribution of wage rate with random values saved by a seed number. \n",
    "N=10000\n",
    "np.random.seed(100)\n",
    "w_uni=np.random.uniform(low=0.5,high=1.5,size=N)\n",
    "\n",
    "#Defining optimal labor supply by creating an empty list and iterating each wage rate. \n",
    "l_opt = np.empty(N) #this np.empty-command returns a new array of given (same N) shape and type, without initializing entries.\n",
    "for i,w in enumerate(w_uni):\n",
    "    lc_bundle = sol(w,eps,v,tau0,tau1,kappa,m)\n",
    "    l_opt[i] = lc_bundle[0]\n",
    "\n",
    "#Defining total tax revenue.  \n",
    "def tax_rev(l_list): #this function uses a list of every individual labor supplier as parameter.\n",
    "    #creating empty list to contain every revenue of each individual's paid tax.\n",
    "    tax_list = np.empty(10000)\n",
    "    #calculating the individual consumer tax revenue and summing it up.\n",
    "    for i in range(10000):\n",
    "        tax_list[i] = tau0*w_uni[i]*l_list[i]+tau1*np.max(w_uni[i]*l_list[i]-kappa,0)\n",
    "    #returning the total sum of tax revenue. \n",
    "    return np.sum(tax_list)\n",
    "\n",
    "#Print out total revenue. \n",
    "print(tax_rev(l_opt))\n",
    ""
   ]
  },
  {
   "cell_type": "markdown",
   "metadata": {},
   "source": [
    "We calculate the total tax revenue of this economy using the before menitioned information and we get a result of 4021.54."
   ]
  },
  {
   "cell_type": "markdown",
   "metadata": {},
   "source": [
    "# Question 4"
   ]
  },
  {
   "cell_type": "markdown",
   "metadata": {},
   "source": [
    "This is almost the same procedure as the former question. We start by setting epsilion equal to the new value of 0.1 and again calculate the total tax revenue. "
   ]
  },
  {
   "cell_type": "code",
   "execution_count": 12,
   "metadata": {},
   "outputs": [
    {
     "output_type": "error",
     "ename": "NameError",
     "evalue": "name 'np' is not defined",
     "traceback": [
      "\u001b[1;31m---------------------------------------------------------------------------\u001b[0m",
      "\u001b[1;31mNameError\u001b[0m                                 Traceback (most recent call last)",
      "\u001b[1;32m<ipython-input-12-1f6a294821a8>\u001b[0m in \u001b[0;36m<module>\u001b[1;34m\u001b[0m\n\u001b[0;32m      3\u001b[0m \u001b[1;33m\u001b[0m\u001b[0m\n\u001b[0;32m      4\u001b[0m \u001b[1;31m#Redefining optimal labor supply and consumption given the new epsilion value.\u001b[0m\u001b[1;33m\u001b[0m\u001b[1;33m\u001b[0m\u001b[1;33m\u001b[0m\u001b[0m\n\u001b[1;32m----> 5\u001b[1;33m \u001b[0ml_opt_new\u001b[0m \u001b[1;33m=\u001b[0m \u001b[0mnp\u001b[0m\u001b[1;33m.\u001b[0m\u001b[0mempty\u001b[0m\u001b[1;33m(\u001b[0m\u001b[0mN\u001b[0m\u001b[1;33m)\u001b[0m\u001b[1;33m\u001b[0m\u001b[1;33m\u001b[0m\u001b[0m\n\u001b[0m\u001b[0;32m      6\u001b[0m \u001b[0mc_opt_new\u001b[0m \u001b[1;33m=\u001b[0m \u001b[0mnp\u001b[0m\u001b[1;33m.\u001b[0m\u001b[0mempty\u001b[0m\u001b[1;33m(\u001b[0m\u001b[0mN\u001b[0m\u001b[1;33m)\u001b[0m\u001b[1;33m\u001b[0m\u001b[1;33m\u001b[0m\u001b[0m\n\u001b[0;32m      7\u001b[0m \u001b[1;32mfor\u001b[0m \u001b[0mi\u001b[0m\u001b[1;33m,\u001b[0m\u001b[0mw\u001b[0m \u001b[1;32min\u001b[0m \u001b[0menumerate\u001b[0m\u001b[1;33m(\u001b[0m\u001b[0mw_uni\u001b[0m\u001b[1;33m)\u001b[0m\u001b[1;33m:\u001b[0m\u001b[1;33m\u001b[0m\u001b[1;33m\u001b[0m\u001b[0m\n",
      "\u001b[1;31mNameError\u001b[0m: name 'np' is not defined"
     ]
    }
   ],
   "source": [
    "#Defining new epsilion to the value of 0.1 given in the assignment. \n",
    "eps_new=0.1\n",
    "\n",
    "#Redefining optimal labor supply and consumption given the new epsilion value. \n",
    "l_opt_new = np.empty(N)\n",
    "c_opt_new = np.empty(N)\n",
    "for i,w in enumerate(w_uni):\n",
    "    lc_bundle=sol(w,eps_new,v,tau0,tau1,kappa,m)\n",
    "    l_opt_new[i] = lc_bundle[0]\n",
    "    c_opt_new[i] = lc_bundle[1]\n",
    "\n",
    "#Print out total tax revenue for this new case. \n",
    "print(tax_rev(l_opt_new))\n",
    ""
   ]
  },
  {
   "cell_type": "markdown",
   "metadata": {},
   "source": [
    "In this case the total tax revenue is now larger then in the former case and we get a result of 4588.31. "
   ]
  },
  {
   "cell_type": "markdown",
   "metadata": {},
   "source": [
    "# Question 5"
   ]
  },
  {
   "cell_type": "markdown",
   "metadata": {},
   "source": [
    "We will change the epsilon value back to the initial value for epsilon to $\\epsilon=0.3$ before tackeling this question. "
   ]
  },
  {
   "cell_type": "code",
   "execution_count": null,
   "metadata": {},
   "outputs": [],
   "source": [
    "ep=0.3"
   ]
  },
  {
   "cell_type": "markdown",
   "metadata": {},
   "source": [
    "In order to give the best political advice with regards to the optimal values of the relevent and used economical parameters we are going to use loops. We have limited the amount of different values each single parameter can take to five each. "
   ]
  },
  {
   "cell_type": "code",
   "execution_count": 16,
   "metadata": {},
   "outputs": [
    {
     "output_type": "error",
     "ename": "NameError",
     "evalue": "name 'np' is not defined",
     "traceback": [
      "\u001b[1;31m---------------------------------------------------------------------------\u001b[0m",
      "\u001b[1;31mNameError\u001b[0m                                 Traceback (most recent call last)",
      "\u001b[1;32m<ipython-input-16-5b0fe20def3f>\u001b[0m in \u001b[0;36m<module>\u001b[1;34m\u001b[0m\n\u001b[1;32m----> 1\u001b[1;33m \u001b[0mkappa_new\u001b[0m \u001b[1;33m=\u001b[0m \u001b[0mnp\u001b[0m\u001b[1;33m.\u001b[0m\u001b[0mlinspace\u001b[0m\u001b[1;33m(\u001b[0m\u001b[1;36m0\u001b[0m\u001b[1;33m,\u001b[0m\u001b[1;36m1.5\u001b[0m\u001b[1;33m,\u001b[0m\u001b[1;36m5\u001b[0m\u001b[1;33m)\u001b[0m\u001b[1;33m\u001b[0m\u001b[1;33m\u001b[0m\u001b[0m\n\u001b[0m\u001b[0;32m      2\u001b[0m \u001b[0mtau0_new\u001b[0m \u001b[1;33m=\u001b[0m \u001b[0mnp\u001b[0m\u001b[1;33m.\u001b[0m\u001b[0mlinspace\u001b[0m\u001b[1;33m(\u001b[0m\u001b[1;36m0\u001b[0m\u001b[1;33m,\u001b[0m\u001b[1;36m1\u001b[0m\u001b[1;33m,\u001b[0m\u001b[1;36m5\u001b[0m\u001b[1;33m)\u001b[0m\u001b[1;33m\u001b[0m\u001b[1;33m\u001b[0m\u001b[0m\n\u001b[0;32m      3\u001b[0m \u001b[0mtau1_new\u001b[0m \u001b[1;33m=\u001b[0m \u001b[0mnp\u001b[0m\u001b[1;33m.\u001b[0m\u001b[0mlinspace\u001b[0m\u001b[1;33m(\u001b[0m\u001b[1;36m0\u001b[0m\u001b[1;33m,\u001b[0m\u001b[1;36m1\u001b[0m\u001b[1;33m,\u001b[0m\u001b[1;36m5\u001b[0m\u001b[1;33m)\u001b[0m\u001b[1;33m\u001b[0m\u001b[1;33m\u001b[0m\u001b[0m\n\u001b[0;32m      4\u001b[0m \u001b[1;33m\u001b[0m\u001b[0m\n\u001b[0;32m      5\u001b[0m \u001b[0mprint\u001b[0m\u001b[1;33m(\u001b[0m\u001b[1;34m'Kappa'\u001b[0m\u001b[1;33m,\u001b[0m \u001b[0mkappa_new\u001b[0m\u001b[1;33m)\u001b[0m\u001b[1;33m\u001b[0m\u001b[1;33m\u001b[0m\u001b[0m\n",
      "\u001b[1;31mNameError\u001b[0m: name 'np' is not defined"
     ]
    }
   ],
   "source": [
    "kappa_new = np.linspace(0,1.5,5)\n",
    "tau0_new = np.linspace(0,1,5)\n",
    "tau1_new = np.linspace(0,1,5)\n",
    "\n",
    "print('Kappa', kappa_new)\n",
    "print('Tau0', tau0_new)\n",
    "print('Tau1', tau1_new)"
   ]
  },
  {
   "cell_type": "markdown",
   "metadata": {},
   "source": [
    "Then we formulate a function for the total tax revenue and also create a list of the optimal labour supply for each individual consumer. "
   ]
  },
  {
   "cell_type": "code",
   "execution_count": 17,
   "metadata": {},
   "outputs": [],
   "source": [
    "def total_tax_rev(tau0,tau1,kappa,w_uni,eps,v,m):\n",
    "    l_list = np.empty(10000)\n",
    "    for s,wa in enumerate(w_uni):\n",
    "        opt_list=sol(wa,eps,v,tau0,tau1,kappa,m)\n",
    "        l_list[s]=opt_list[0]\n",
    "    return tax_rev(l_list)"
   ]
  },
  {
   "cell_type": "markdown",
   "metadata": {},
   "source": [
    "We create iterations to find the optimal values of the economical parameters and afterwards reduce the interval of values that each economical parameter is limited by when looping again.  \n",
    "\n"
   ]
  },
  {
   "cell_type": "markdown",
   "metadata": {},
   "source": [
    "Running Loop (1)"
   ]
  },
  {
   "cell_type": "code",
   "execution_count": 18,
   "metadata": {},
   "outputs": [
    {
     "output_type": "error",
     "ename": "NameError",
     "evalue": "name 'kappa_new' is not defined",
     "traceback": [
      "\u001b[1;31m---------------------------------------------------------------------------\u001b[0m",
      "\u001b[1;31mNameError\u001b[0m                                 Traceback (most recent call last)",
      "\u001b[1;32m<ipython-input-18-e9906f23f368>\u001b[0m in \u001b[0;36m<module>\u001b[1;34m\u001b[0m\n\u001b[0;32m      6\u001b[0m \u001b[1;33m\u001b[0m\u001b[0m\n\u001b[0;32m      7\u001b[0m \u001b[1;31m#Begin loop that creats varius permutations of the selected parameter values.\u001b[0m\u001b[1;33m\u001b[0m\u001b[1;33m\u001b[0m\u001b[1;33m\u001b[0m\u001b[0m\n\u001b[1;32m----> 8\u001b[1;33m \u001b[1;32mfor\u001b[0m \u001b[0mi\u001b[0m \u001b[1;32min\u001b[0m \u001b[0mkappa_new\u001b[0m\u001b[1;33m:\u001b[0m\u001b[1;33m\u001b[0m\u001b[1;33m\u001b[0m\u001b[0m\n\u001b[0m\u001b[0;32m      9\u001b[0m     \u001b[1;32mfor\u001b[0m \u001b[0mj\u001b[0m \u001b[1;32min\u001b[0m \u001b[0mtau0_new\u001b[0m\u001b[1;33m:\u001b[0m\u001b[1;33m\u001b[0m\u001b[1;33m\u001b[0m\u001b[0m\n\u001b[0;32m     10\u001b[0m         \u001b[1;32mfor\u001b[0m \u001b[0mm\u001b[0m \u001b[1;32min\u001b[0m \u001b[0mtau1_new\u001b[0m\u001b[1;33m:\u001b[0m\u001b[1;33m\u001b[0m\u001b[1;33m\u001b[0m\u001b[0m\n",
      "\u001b[1;31mNameError\u001b[0m: name 'kappa_new' is not defined"
     ]
    }
   ],
   "source": [
    "#Create a guess for the best value of each parameter and total tax revenue.\n",
    "kappa_opt = 0\n",
    "tau0_opt = 0\n",
    "tau1_opt = 0\n",
    "rev_opt = 0\n",
    "\n",
    "#Begin loop that creats varius permutations of the selected parameter values. \n",
    "for i in kappa_new:\n",
    "    for j in tau0_new:\n",
    "        for m in tau1_new:\n",
    "            tau0 = j\n",
    "            tau1 = m\n",
    "            kappa = i\n",
    "            rev = total_tax_rev(tau0,tau1,kappa,w_uni,eps,v,m)\n",
    "            if rev > rev_opt: # If the combination of parameters gives higher total tax revenue than best_rev,\n",
    "                               # then the best guesses for parameter values are updated:\n",
    "                rev_opt = rev\n",
    "                kappa_opt = kappa\n",
    "                tau0_opt = tau0\n",
    "                tau1_opt = tau1\n",
    "# Now printing the results:\n",
    "print('Optimal value of kappa', kappa_opt)\n",
    "print('Optimal value of tau0', tau0_opt)\n",
    "print('Optimal value of tau1', tau1_opt)\n",
    "print('Optimal value of tax rev', rev_opt)"
   ]
  },
  {
   "cell_type": "markdown",
   "metadata": {},
   "source": [
    "Running Loop (2)"
   ]
  },
  {
   "cell_type": "code",
   "execution_count": 19,
   "metadata": {},
   "outputs": [
    {
     "output_type": "error",
     "ename": "NameError",
     "evalue": "name 'np' is not defined",
     "traceback": [
      "\u001b[1;31m---------------------------------------------------------------------------\u001b[0m",
      "\u001b[1;31mNameError\u001b[0m                                 Traceback (most recent call last)",
      "\u001b[1;32m<ipython-input-19-23a6d0abcad7>\u001b[0m in \u001b[0;36m<module>\u001b[1;34m\u001b[0m\n\u001b[1;32m----> 1\u001b[1;33m \u001b[0mkappa_new\u001b[0m \u001b[1;33m=\u001b[0m \u001b[0mnp\u001b[0m\u001b[1;33m.\u001b[0m\u001b[0mlinspace\u001b[0m\u001b[1;33m(\u001b[0m\u001b[1;36m0\u001b[0m\u001b[1;33m,\u001b[0m\u001b[1;36m1.5\u001b[0m\u001b[1;33m,\u001b[0m\u001b[1;36m5\u001b[0m\u001b[1;33m)\u001b[0m\u001b[1;33m\u001b[0m\u001b[1;33m\u001b[0m\u001b[0m\n\u001b[0m\u001b[0;32m      2\u001b[0m \u001b[0mtau0_new\u001b[0m \u001b[1;33m=\u001b[0m \u001b[0mnp\u001b[0m\u001b[1;33m.\u001b[0m\u001b[0mlinspace\u001b[0m\u001b[1;33m(\u001b[0m\u001b[1;36m0\u001b[0m\u001b[1;33m,\u001b[0m\u001b[1;36m1\u001b[0m\u001b[1;33m,\u001b[0m\u001b[1;36m5\u001b[0m\u001b[1;33m)\u001b[0m\u001b[1;33m\u001b[0m\u001b[1;33m\u001b[0m\u001b[0m\n\u001b[0;32m      3\u001b[0m \u001b[0mtau1_new\u001b[0m \u001b[1;33m=\u001b[0m \u001b[0mnp\u001b[0m\u001b[1;33m.\u001b[0m\u001b[0mlinspace\u001b[0m\u001b[1;33m(\u001b[0m\u001b[1;36m0\u001b[0m\u001b[1;33m,\u001b[0m\u001b[1;36m1\u001b[0m\u001b[1;33m,\u001b[0m\u001b[1;36m5\u001b[0m\u001b[1;33m)\u001b[0m\u001b[1;33m\u001b[0m\u001b[1;33m\u001b[0m\u001b[0m\n\u001b[0;32m      4\u001b[0m \u001b[1;33m\u001b[0m\u001b[0m\n\u001b[0;32m      5\u001b[0m \u001b[1;31m#Create a guess for the best value of each parameter and total tax revenue.\u001b[0m\u001b[1;33m\u001b[0m\u001b[1;33m\u001b[0m\u001b[1;33m\u001b[0m\u001b[0m\n",
      "\u001b[1;31mNameError\u001b[0m: name 'np' is not defined"
     ]
    }
   ],
   "source": [
    "kappa_new = np.linspace(0,1.5,5)\n",
    "tau0_new = np.linspace(0,1,5)\n",
    "tau1_new = np.linspace(0,1,5)\n",
    "\n",
    "#Create a guess for the best value of each parameter and total tax revenue.\n",
    "kappa_opt = 0\n",
    "tau0_opt = 0\n",
    "tau1_opt = 0\n",
    "rev_opt = 0\n",
    "\n",
    "#Begin loop that creats varius permutations of the selected parameter values. \n",
    "for i in kappa_new:\n",
    "    for j in tau0_new:\n",
    "        for m in tau1_new:\n",
    "            tau0 = j\n",
    "            tau1 = m\n",
    "            kappa = i\n",
    "            rev = total_tax_rev(tau0,tau1,kappa,w_uni,eps,v,m)\n",
    "            if rev > rev_opt: # If the combination of parameters gives higher total tax revenue than best_rev,\n",
    "                               # then the best guesses for parameter values are updated:\n",
    "                rev_opt = rev\n",
    "                kappa_opt = kappa\n",
    "                tau0_opt = tau0\n",
    "                tau1_opt = tau1\n",
    "# Now printing the results:\n",
    "print('Optimal value of kappa', kappa_opt)\n",
    "print('Optimal value of tau0', tau0_opt)\n",
    "print('Optimal value of tau1', tau1_opt)\n",
    "print('Optimal value of tax rev', rev_opt)"
   ]
  },
  {
   "cell_type": "markdown",
   "metadata": {},
   "source": [
    "Running Loop (3)"
   ]
  },
  {
   "cell_type": "code",
   "execution_count": 20,
   "metadata": {},
   "outputs": [
    {
     "output_type": "error",
     "ename": "NameError",
     "evalue": "name 'np' is not defined",
     "traceback": [
      "\u001b[1;31m---------------------------------------------------------------------------\u001b[0m",
      "\u001b[1;31mNameError\u001b[0m                                 Traceback (most recent call last)",
      "\u001b[1;32m<ipython-input-20-23a6d0abcad7>\u001b[0m in \u001b[0;36m<module>\u001b[1;34m\u001b[0m\n\u001b[1;32m----> 1\u001b[1;33m \u001b[0mkappa_new\u001b[0m \u001b[1;33m=\u001b[0m \u001b[0mnp\u001b[0m\u001b[1;33m.\u001b[0m\u001b[0mlinspace\u001b[0m\u001b[1;33m(\u001b[0m\u001b[1;36m0\u001b[0m\u001b[1;33m,\u001b[0m\u001b[1;36m1.5\u001b[0m\u001b[1;33m,\u001b[0m\u001b[1;36m5\u001b[0m\u001b[1;33m)\u001b[0m\u001b[1;33m\u001b[0m\u001b[1;33m\u001b[0m\u001b[0m\n\u001b[0m\u001b[0;32m      2\u001b[0m \u001b[0mtau0_new\u001b[0m \u001b[1;33m=\u001b[0m \u001b[0mnp\u001b[0m\u001b[1;33m.\u001b[0m\u001b[0mlinspace\u001b[0m\u001b[1;33m(\u001b[0m\u001b[1;36m0\u001b[0m\u001b[1;33m,\u001b[0m\u001b[1;36m1\u001b[0m\u001b[1;33m,\u001b[0m\u001b[1;36m5\u001b[0m\u001b[1;33m)\u001b[0m\u001b[1;33m\u001b[0m\u001b[1;33m\u001b[0m\u001b[0m\n\u001b[0;32m      3\u001b[0m \u001b[0mtau1_new\u001b[0m \u001b[1;33m=\u001b[0m \u001b[0mnp\u001b[0m\u001b[1;33m.\u001b[0m\u001b[0mlinspace\u001b[0m\u001b[1;33m(\u001b[0m\u001b[1;36m0\u001b[0m\u001b[1;33m,\u001b[0m\u001b[1;36m1\u001b[0m\u001b[1;33m,\u001b[0m\u001b[1;36m5\u001b[0m\u001b[1;33m)\u001b[0m\u001b[1;33m\u001b[0m\u001b[1;33m\u001b[0m\u001b[0m\n\u001b[0;32m      4\u001b[0m \u001b[1;33m\u001b[0m\u001b[0m\n\u001b[0;32m      5\u001b[0m \u001b[1;31m#Create a guess for the best value of each parameter and total tax revenue.\u001b[0m\u001b[1;33m\u001b[0m\u001b[1;33m\u001b[0m\u001b[1;33m\u001b[0m\u001b[0m\n",
      "\u001b[1;31mNameError\u001b[0m: name 'np' is not defined"
     ]
    }
   ],
   "source": [
    "kappa_new = np.linspace(0,1.5,5)\n",
    "tau0_new = np.linspace(0,1,5)\n",
    "tau1_new = np.linspace(0,1,5)\n",
    "\n",
    "#Create a guess for the best value of each parameter and total tax revenue.\n",
    "kappa_opt = 0\n",
    "tau0_opt = 0\n",
    "tau1_opt = 0\n",
    "rev_opt = 0\n",
    "\n",
    "#Begin loop that creats varius permutations of the selected parameter values. \n",
    "for i in kappa_new:\n",
    "    for j in tau0_new:\n",
    "        for m in tau1_new:\n",
    "            tau0 = j\n",
    "            tau1 = m\n",
    "            kappa = i\n",
    "            rev = total_tax_rev(tau0,tau1,kappa,w_uni,eps,v,m)\n",
    "            if rev > rev_opt: # If the combination of parameters gives higher total tax revenue than best_rev,\n",
    "                               # then the best guesses for parameter values are updated:\n",
    "                rev_opt = rev\n",
    "                kappa_opt = kappa\n",
    "                tau0_opt = tau0\n",
    "                tau1_opt = tau1\n",
    "# Now printing the results:\n",
    "print('Optimal value of kappa', kappa_opt)\n",
    "print('Optimal value of tau0', tau0_opt)\n",
    "print('Optimal value of tau1', tau1_opt)\n",
    "print('Optimal value of tax rev', rev_opt)"
   ]
  },
  {
   "cell_type": "markdown",
   "metadata": {},
   "source": [
    "# Conclusion"
   ]
  },
  {
   "cell_type": "markdown",
   "metadata": {},
   "source": [
    "This assignment seeks to analyze, how labor supply, consumption and wage rate interact's and effect an economy given certain scenarios. We have learned that wage rate is positively correlated with labor supply and consumption respectively. Effects from changes in the elasticity of labor supply was also analyzed. We concluded that a lower elasticity of labor supply will increase the tax revenue given nothing els changes. "
   ]
  }
 ],
 "metadata": {
  "kernelspec": {
   "display_name": "Python 3.7.4 64-bit ('base': conda)",
   "language": "python",
   "name": "python37464bitbaseconda41682e1fe7ee4c88b0d504ae5e0de335"
  },
  "language_info": {
   "codemirror_mode": {
    "name": "ipython",
    "version": 3
   },
   "file_extension": ".py",
   "mimetype": "text/x-python",
   "name": "python",
   "nbconvert_exporter": "python",
   "pygments_lexer": "ipython3",
   "version": "3.7.4-final"
  },
  "toc-autonumbering": true
 },
 "nbformat": 4,
 "nbformat_minor": 4
}