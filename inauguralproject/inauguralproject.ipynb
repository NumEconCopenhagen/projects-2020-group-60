{
 "cells": [
  {
   "cell_type": "code",
   "execution_count": 18,
   "metadata": {},
   "outputs": [],
   "source": [
    "import numpy as np\n",
    "from scipy import optimize\n",
    "import matplotlib.pyplot as plt"
   ]
  },
  {
   "cell_type": "code",
   "execution_count": 19,
   "metadata": {},
   "outputs": [],
   "source": [
    "m = 1 #cash-on-hand.\n",
    "v = 10 #scales the disutility of labor.\n",
    "eps= 0.3 #elasticity of labor supply\n",
    "tau0 = 0.4 #standard labor income tax.\n",
    "tau1 = 0.1 #top bracket labor income tax.\n",
    "kappa = 0.4 #the cut-off for the top labor income bracket.\n",
    "w = 0.5 #wage rate set with the initial value 0.5.\n"
   ]
  },
  {
   "cell_type": "markdown",
   "metadata": {},
   "source": [
    "Question 1:"
   ]
  },
  {
   "cell_type": "code",
   "execution_count": 20,
   "metadata": {},
   "outputs": [],
   "source": [
    "# defining consumers function where the consumer have to chose between consumption and labour work \n",
    "def utility_function(l,c,eps,v):\n",
    "    u = np.log(c) - v*l**(1 + 1/eps)/(1 + 1/eps)\n",
    "    return u\n"
   ]
  },
  {
   "cell_type": "code",
   "execution_count": 21,
   "metadata": {},
   "outputs": [],
   "source": [
    "# defining the consumers budgetconstraint\n",
    "def consumer_budget_constraint(m,w,l,tau0,tau1,kappa):\n",
    "        x = m + w*l - w*l*tau0 - tau1*max((w*l - kappa),0)\n",
    "        return x"
   ]
  },
  {
   "cell_type": "code",
   "execution_count": 22,
   "metadata": {},
   "outputs": [],
   "source": [
    "# We will be using scipy optimize to maximise the utillity_function given the first oder conditions of the budget constraint\n",
    "\n",
    "\n",
    "# Solving the objective function by minimizing the negativ utility_function\n",
    "def objective_function(l,w,eps,v,tau0,tau1,kappa):\n",
    "    c = consumer_budget_constraint(m,w,l,tau0,tau1,kappa)\n",
    "    return - utility_function(l,c,eps,v)\n",
    "\n",
    "# Calling the optimizer \n",
    "def optimizer(w,eps,v,tau0,tau1,kappa,m):\n",
    "    sol = optimize.minimize_scalar(\n",
    "        objective_function, method = 'bounded',\n",
    "        bounds = (0,1), args = (w,eps,v,tau0,tau1,kappa))\n",
    "    l_star = sol\n",
    "    c_star = consumer_budget_constraint(m,w,l_star,tau0,tau1,kappa)\n",
    "    u_star = utility_function(l_star,c_star,eps,v)\n",
    "    return [l_star,c_star,u_star]\n",
    "      \n",
    "\n"
   ]
  },
  {
   "cell_type": "markdown",
   "metadata": {},
   "source": [
    "Question 2:"
   ]
  },
  {
   "cell_type": "code",
   "execution_count": 23,
   "metadata": {},
   "outputs": [
    {
     "data": {
      "text/plain": [
       "<function matplotlib.pyplot.show(*args, **kw)>"
      ]
     },
     "execution_count": 23,
     "metadata": {},
     "output_type": "execute_result"
    },
    {
     "data": {
      "image/png": "[encoded data removed]",
      "text/plain": [
       "<Figure size 720x288 with 2 Axes>"
      ]
     },
     "metadata": {},
     "output_type": "display_data"
    }
   ],
   "source": [
    "# Ploting l_star, and c_star as a function as W in ragen 0.5 to 1.5\n",
    "# set numbers off observations \n",
    "N=10000\n",
    "\n",
    "plt.style.use(\"seaborn\")\n",
    "\n",
    "#Generating vectors for wages, labor supply and consumption \n",
    "w_vector = np.linspace(0.5 ,1.5 ,N)\n",
    "l_vector = np.empty(N)\n",
    "c_vector = np.empty(N)\n",
    "\n",
    "for i,w in enumerate(w_vector):\n",
    "    bundle = optimize.minimize_scalar(objective_function, method = \"bounded\", bounds = (0,1), args=(w,eps,v,tau0,tau1,kappa))\n",
    "    l_vector[i] = bundle.x\n",
    "    c_vector[i] = consumer_budget_constraint(m = m, w = w, l = l_vector[i], tau0 = tau0, tau1= tau1, kappa =kappa)\n",
    "\n",
    "# Creating figure\n",
    "fig = plt.figure(figsize = (10,4))\n",
    "\n",
    "# figure of labor supply as fuction of wages\n",
    "ax_left = fig.add_subplot(1,2,1)\n",
    "ax_left.plot(w_vector,l_vector)\n",
    "# Naming figure\n",
    "ax_left.set_title('Optimale labor supply given wages')\n",
    "ax_left.set_xlabel('$w$')\n",
    "ax_left.set_ylabel('$l^\\star$')\n",
    "ax_left.grid(True)\n",
    "\n",
    "# figure of consumption as function of wages  \n",
    "ax_right = fig.add_subplot(1,2,2)\n",
    "ax_right.plot(w_vector,c_vector)\n",
    "#Naming figure\n",
    "ax_right.set_title('Optimale consumption path given wages')\n",
    "ax_right.set_xlabel('$w$')\n",
    "ax_right.set_ylabel('$c^\\star$')\n",
    "ax_left.grid(True)\n",
    "\n",
    "plt.show\n",
    "                    \n"
   ]
  },
  {
   "cell_type": "markdown",
   "metadata": {},
   "source": [
    "From the figures it can be seen that there is a positive correlation between wages with regards to labor and consumption. this indicates that the substitution effects dominate the income effect when it comes to labor supply. However, it can be seen that for w = 1, and kappa = 0.4, labor supply falls as workers faces higher taxation in the upper income bracket, which makes leisure relatively cheaper. This effect causes workers to substitute towards leisure which reduces the overall labor supply.  "
   ]
  },
  {
   "cell_type": "markdown",
   "metadata": {},
   "source": [
    "Question 3:"
   ]
  },
  {
   "cell_type": "code",
   "execution_count": 24,
   "metadata": {},
   "outputs": [
    {
     "name": "stdout",
     "output_type": "stream",
     "text": [
      "Total tax revenue = 1808.6128\n"
     ]
    }
   ],
   "source": [
    "# Generating wages as a uniform distribution:\n",
    "eps = 0.3\n",
    "np.random.seed(2233)\n",
    "w_uni = np.random.uniform(0.5,1.5,size=N)\n",
    "tax_i = np.empty(N)\n",
    "\n",
    "# Solve tax for each individual\n",
    "for i, w in enumerate(w_uni):\n",
    "    sol = optimize.minimize_scalar(objective_function,\n",
    "    method = 'bounded', bounds=(0,1), args=(w,eps,v,tau0,tau1,kappa))\n",
    "    l_vector[i] = sol.x\n",
    "    tax_i = tau0*w_uni*l_vector+tau1*np.max(w_uni*l_vector-kappa,0)\n",
    "    \n",
    "# Caclulating the total tax revenue\n",
    "total_tax_revenue = np.sum(tax_i)\n",
    "print(f'Total tax revenue = {total_tax_revenue:.4f}')\n",
    "\n",
    "\n",
    "    \n",
    "\n",
    "\n"
   ]
  },
  {
   "cell_type": "markdown",
   "metadata": {},
   "source": [
    "The Total tax revenue is 1808.6"
   ]
  },
  {
   "cell_type": "markdown",
   "metadata": {},
   "source": [
    "Question 4:"
   ]
  },
  {
   "cell_type": "code",
   "execution_count": 29,
   "metadata": {},
   "outputs": [
    {
     "name": "stdout",
     "output_type": "stream",
     "text": [
      "Total tax revenue = 3583.2863\n"
     ]
    }
   ],
   "source": [
    "# Change epsilon to 0.1, and run the same as in question 3\n",
    "eps = 0.1\n",
    "np.random.seed(2233)\n",
    "\n",
    "for i, w in enumerate(w_uni):\n",
    "    sol = optimize.minimize_scalar(objective_function,\n",
    "    method = 'bounded', bounds=(0,1), args=(w,eps,v,tau0,tau1,kappa))\n",
    "    l_vector[i] = sol.x\n",
    "    tax_i = tau0*w_uni*l_vector+tau1*np.max(w_uni*l_vector-kappa,0)\n",
    "    \n",
    "# Caclulating the total tax revenue\n",
    "total_tax_revenue = np.sum(tax_i)\n",
    "print(f'Total tax revenue = {total_tax_revenue:.4f}')\n",
    "\n"
   ]
  },
  {
   "cell_type": "markdown",
   "metadata": {},
   "source": [
    "The Total tax revenue increases to 3583 when epsilon is 0.1. Epsilon measures the elasticity of labor with regards to wages. This implies that workers substitute less towards leisure, when taxes increases, which increases the overall tax revenue."
   ]
  },
  {
   "cell_type": "markdown",
   "metadata": {},
   "source": [
    "Question 5:"
   ]
  },
  {
   "cell_type": "code",
   "execution_count": 31,
   "metadata": {},
   "outputs": [],
   "source": [
    "def print_solution(t0,t1,k,tt):\n",
    "    print(f'tau0 = {t0:.4f}')\n",
    "    print(f'tau1 = {t1:.4f}')\n",
    "    print(f'kappa  = {k:.4f}')\n",
    "    print(f'total tax revenue = {tt:.4f}')\n",
    "\n",
    "eps = 0.3\n",
    "# Defining a function for total tax revenue, and solving the consumer problem for individual i. \n",
    "def total_tax(v,tau0,tau1,kappa,eps,w_uni,l_vector):\n",
    "    for i, w in enumerate (w_uni):\n",
    "        sol = optimize.minimize_scalar(objective_function,\n",
    "        method='bounded', bounds=(0,1), args = (w,eps,v,tau0,tau1,kappa))\n",
    "        l_vector[i] = sol.x\n",
    "        tax_i = tau0*w_uni*l_vector+tau1*np.max(w_uni*l_vector-kappa,0)\n",
    "    total_tax = np.sum(tax_i)\n",
    "    return total_tax\n",
    "    "
   ]
  },
  {
   "cell_type": "code",
   "execution_count": 32,
   "metadata": {},
   "outputs": [
    {
     "name": "stdout",
     "output_type": "stream",
     "text": [
      "tau0 = 0.7854\n",
      "tau1 = 0.0000\n",
      "kappa  = 0.6048\n",
      "total tax revenue = 2469.1316\n"
     ]
    }
   ],
   "source": [
    "# Def optimale tax revenue as objective function to maximise\n",
    "def optimale_tax_revenue(x,w_uni,l_vector):\n",
    "    tau0 = x[0]\n",
    "    tau1 = x[1]\n",
    "    kappa = x[2]\n",
    "    return -total_tax(v,tau0,tau1,kappa,eps,w_uni,l_vector)\n",
    "\n",
    "Bounds = ((0,1),(0,1),(0,1))\n",
    "Guess = [0.5,0.5,0.5]\n",
    "\n",
    "sol_1 = optimize.minimize(\n",
    "    optimale_tax_revenue, Guess, args=(w_uni,l_vector),\n",
    "    method='SLSQP', bounds=Bounds)\n",
    "\n",
    "tau0 = sol_1.x[0]\n",
    "tau1 = sol_1.x[1]\n",
    "kappa = sol_1.x[2]\n",
    "total_t = total_tax(v,tau0,tau1,kappa,eps,w_uni,l_vector)\n",
    "\n",
    "print_solution(tau0,tau1,kappa,total_t)\n",
    "\n"
   ]
  },
  {
   "cell_type": "markdown",
   "metadata": {},
   "source": [
    "We see that the tax revenue increases compared to question 3, which is expected since we can pick the optimal tax rates for the upper and standard income bracket.\n",
    "\n",
    "The policymaker should choose tau0 = 78 pct. and tau1=0 pct., to maximize tax revenue. This implies a standard tax rate off 78 pct. with no tax that effects upper income brackets. This could be explained by the fact that a tax rate for upper income brackets, tends to create larger distortions between the relative cost of leisure and wages leading a larger group of workers to substitute towards leisure when the hit the upper income bracket as seen in question 2.   "
   ]
  },
  {
   "cell_type": "markdown",
   "metadata": {},
   "source": [
    "Conclusion: \n",
    "In the assignment we found that a additional tax rate over and upper income bracket distorts the marginal substitution effects between leisure and wages, which in our case lowers the overall labor supply. Furthermore, it is found that a lower epsilon decreases the substitution effect between wages, and leisure thereby increasing the overall tax revenue. In the end we found that the optimal tax revenue was reached only by setting a standard tax rate to 78 pct.     \n",
    "\n"
   ]
  },
  {
   "cell_type": "code",
   "execution_count": null,
   "metadata": {},
   "outputs": [],
   "source": []
  }
 ],
 "metadata": {
  "kernelspec": {
   "display_name": "Python 3",
   "language": "python",
   "name": "python3"
  },
  "language_info": {
   "codemirror_mode": {
    "name": "ipython",
    "version": 3
   },
   "file_extension": ".py",
   "mimetype": "text/x-python",
   "name": "python",
   "nbconvert_exporter": "python",
   "pygments_lexer": "ipython3",
   "version": "3.7.6"
  }
 },
 "nbformat": 4,
 "nbformat_minor": 4
}
